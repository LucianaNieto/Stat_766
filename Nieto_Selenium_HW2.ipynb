{
 "cells": [
  {
   "cell_type": "markdown",
   "metadata": {},
   "source": [
    "## READ FIRST"
   ]
  },
  {
   "cell_type": "markdown",
   "metadata": {},
   "source": [
    "### This document is organized as follows:\n",
    "#### 1. Required install\n",
    "#### 2. Libraries used throughout the document\n",
    "#### 3. Questions, comments and results\n",
    "\n",
    "#### Everything was run using JupyterLab version: and Python version: 3.6.8 on MacOS\n",
    "#### if you want to run this notebook, be sure to have all the related files (webdriver) in the same folder as this file. \n",
    "\n",
    "\n"
   ]
  },
  {
   "cell_type": "markdown",
   "metadata": {},
   "source": [
    "        "
   ]
  },
  {
   "cell_type": "markdown",
   "metadata": {},
   "source": [
    "            "
   ]
  },
  {
   "cell_type": "markdown",
   "metadata": {},
   "source": [
    "#### Install"
   ]
  },
  {
   "cell_type": "code",
   "execution_count": null,
   "metadata": {},
   "outputs": [],
   "source": [
    "#pip install selenium\n",
    "#pip install webdriver-manager"
   ]
  },
  {
   "cell_type": "markdown",
   "metadata": {},
   "source": [
    "#### Libraries "
   ]
  },
  {
   "cell_type": "code",
   "execution_count": 1,
   "metadata": {},
   "outputs": [],
   "source": [
    "from selenium import webdriver\n",
    "from webdriver_manager.chrome import ChromeDriverManager\n",
    "from selenium.webdriver.common.keys import Keys\n",
    "from selenium.webdriver.support.wait import WebDriverWait\n",
    "from selenium.webdriver.support import expected_conditions as EC\n",
    "from selenium.webdriver.common.by import By\n",
    "import time\n",
    "import pandas as pd \n",
    "import numpy as np"
   ]
  },
  {
   "cell_type": "markdown",
   "metadata": {},
   "source": [
    "## Question 1: "
   ]
  },
  {
   "cell_type": "code",
   "execution_count": 8,
   "metadata": {},
   "outputs": [
    {
     "name": "stderr",
     "output_type": "stream",
     "text": [
      "\n",
      "\n",
      "====== WebDriver manager ======\n",
      "Current google-chrome version is 94.0.4606\n",
      "Get LATEST driver version for 94.0.4606\n",
      "Driver [/Users/luciananieto/.wdm/drivers/chromedriver/mac64/94.0.4606.41/chromedriver] found in cache\n"
     ]
    }
   ],
   "source": [
    "#install webdriver. I had some compatibility issues hence I'm using the webdriver w/installation at the same time \n",
    "driver = webdriver.Chrome(ChromeDriverManager().install())\n",
    "\n",
    "#go to the requested URL\n",
    "driver.get('https://www.ncbi.nlm.nih.gov/geo/query/acc.cgi?acc=GSE14333')"
   ]
  },
  {
   "cell_type": "code",
   "execution_count": 9,
   "metadata": {},
   "outputs": [],
   "source": [
    "#in order to \"see\" all of the elements in the page, both the three already displayed and the ones that can be accessed though +More\n",
    "all_elements = driver.find_elements_by_tag_name('div')\n",
    "for element in all_elements:\n",
    "    property = element.value_of_css_property('display')\n",
    "    if property == 'none':\n",
    "        driver.execute_script(\n",
    "        \"arguments [0].style.display = 'block';\", element)\n",
    "    if property == 'block':\n",
    "        driver.execute_script(\n",
    "        \"arguments[0].style.display = 'none';\", element)\n"
   ]
  },
  {
   "cell_type": "code",
   "execution_count": 10,
   "metadata": {},
   "outputs": [],
   "source": [
    "#once all the elements are located we can extract the xpath, in this examples we separated it in two strings (s1, s2) to avoid a long string\n",
    "\n",
    "s1 = '//*[@id=\"ui-ncbiexternallink-1\"]/table/tbody/tr/td/table[6]/tbody/tr[3]/td[2]/'\n",
    "s2 ='table/tbody/tr/td/table/tbody/tr/td/table[2]/tbody/tr/td/table[1]/tbody/tr[28]/td[2]'\n",
    "table= driver.find_element_by_xpath(s1+s2)\n",
    "tbody = table.find_elements_by_tag_name('tbody')\n",
    "\n",
    "\n",
    "#create an empty list to store the links. Locate the elements by tag (a), and then retrieve the corresponding link, stored within the 'href' attribute\n",
    "#append each link to the list\n",
    "links =[]\n",
    "b1=tbody[0]\n",
    "f3=b1.find_elements_by_tag_name('a')\n",
    "for a in f3:\n",
    "    links.append( a.get_attribute('href') )\n",
    "b2 =tbody[1]\n",
    "all_a= b2.find_elements_by_tag_name('a')\n",
    "for a in all_a:\n",
    "    links.append( a.get_attribute('href'))\n",
    "    \n",
    "\n",
    "#create an empty list to store the ids for each sample after extracting them from each corresponding URL\n",
    "id_ =[]\n",
    "for link in links:\n",
    "    t = link.split('/acc.cgi?acc=')[-1]\n",
    "    id_.append(t)\n"
   ]
  },
  {
   "cell_type": "markdown",
   "metadata": {},
   "source": [
    "### Final output for question 1"
   ]
  },
  {
   "cell_type": "code",
   "execution_count": 11,
   "metadata": {},
   "outputs": [
    {
     "name": "stdout",
     "output_type": "stream",
     "text": [
      "{'GSM358341': 'https://www.ncbi.nlm.nih.gov/geo/query/acc.cgi?acc=GSM358341', 'GSM358342': 'https://www.ncbi.nlm.nih.gov/geo/query/acc.cgi?acc=GSM358342', 'GSM358343': 'https://www.ncbi.nlm.nih.gov/geo/query/acc.cgi?acc=GSM358343', 'GSM358344': 'https://www.ncbi.nlm.nih.gov/geo/query/acc.cgi?acc=GSM358344', 'GSM358345': 'https://www.ncbi.nlm.nih.gov/geo/query/acc.cgi?acc=GSM358345', 'GSM358346': 'https://www.ncbi.nlm.nih.gov/geo/query/acc.cgi?acc=GSM358346', 'GSM358347': 'https://www.ncbi.nlm.nih.gov/geo/query/acc.cgi?acc=GSM358347', 'GSM358348': 'https://www.ncbi.nlm.nih.gov/geo/query/acc.cgi?acc=GSM358348', 'GSM358349': 'https://www.ncbi.nlm.nih.gov/geo/query/acc.cgi?acc=GSM358349', 'GSM358350': 'https://www.ncbi.nlm.nih.gov/geo/query/acc.cgi?acc=GSM358350', 'GSM358351': 'https://www.ncbi.nlm.nih.gov/geo/query/acc.cgi?acc=GSM358351', 'GSM358352': 'https://www.ncbi.nlm.nih.gov/geo/query/acc.cgi?acc=GSM358352', 'GSM358353': 'https://www.ncbi.nlm.nih.gov/geo/query/acc.cgi?acc=GSM358353', 'GSM358354': 'https://www.ncbi.nlm.nih.gov/geo/query/acc.cgi?acc=GSM358354', 'GSM358355': 'https://www.ncbi.nlm.nih.gov/geo/query/acc.cgi?acc=GSM358355', 'GSM358356': 'https://www.ncbi.nlm.nih.gov/geo/query/acc.cgi?acc=GSM358356', 'GSM358357': 'https://www.ncbi.nlm.nih.gov/geo/query/acc.cgi?acc=GSM358357', 'GSM358358': 'https://www.ncbi.nlm.nih.gov/geo/query/acc.cgi?acc=GSM358358', 'GSM358359': 'https://www.ncbi.nlm.nih.gov/geo/query/acc.cgi?acc=GSM358359', 'GSM358360': 'https://www.ncbi.nlm.nih.gov/geo/query/acc.cgi?acc=GSM358360', 'GSM358361': 'https://www.ncbi.nlm.nih.gov/geo/query/acc.cgi?acc=GSM358361', 'GSM358362': 'https://www.ncbi.nlm.nih.gov/geo/query/acc.cgi?acc=GSM358362', 'GSM358363': 'https://www.ncbi.nlm.nih.gov/geo/query/acc.cgi?acc=GSM358363', 'GSM358364': 'https://www.ncbi.nlm.nih.gov/geo/query/acc.cgi?acc=GSM358364', 'GSM358365': 'https://www.ncbi.nlm.nih.gov/geo/query/acc.cgi?acc=GSM358365', 'GSM358366': 'https://www.ncbi.nlm.nih.gov/geo/query/acc.cgi?acc=GSM358366', 'GSM358367': 'https://www.ncbi.nlm.nih.gov/geo/query/acc.cgi?acc=GSM358367', 'GSM358368': 'https://www.ncbi.nlm.nih.gov/geo/query/acc.cgi?acc=GSM358368', 'GSM358369': 'https://www.ncbi.nlm.nih.gov/geo/query/acc.cgi?acc=GSM358369', 'GSM358370': 'https://www.ncbi.nlm.nih.gov/geo/query/acc.cgi?acc=GSM358370', 'GSM358371': 'https://www.ncbi.nlm.nih.gov/geo/query/acc.cgi?acc=GSM358371', 'GSM358372': 'https://www.ncbi.nlm.nih.gov/geo/query/acc.cgi?acc=GSM358372', 'GSM358373': 'https://www.ncbi.nlm.nih.gov/geo/query/acc.cgi?acc=GSM358373', 'GSM358374': 'https://www.ncbi.nlm.nih.gov/geo/query/acc.cgi?acc=GSM358374', 'GSM358375': 'https://www.ncbi.nlm.nih.gov/geo/query/acc.cgi?acc=GSM358375', 'GSM358376': 'https://www.ncbi.nlm.nih.gov/geo/query/acc.cgi?acc=GSM358376', 'GSM358377': 'https://www.ncbi.nlm.nih.gov/geo/query/acc.cgi?acc=GSM358377', 'GSM358378': 'https://www.ncbi.nlm.nih.gov/geo/query/acc.cgi?acc=GSM358378', 'GSM358379': 'https://www.ncbi.nlm.nih.gov/geo/query/acc.cgi?acc=GSM358379', 'GSM358380': 'https://www.ncbi.nlm.nih.gov/geo/query/acc.cgi?acc=GSM358380', 'GSM358381': 'https://www.ncbi.nlm.nih.gov/geo/query/acc.cgi?acc=GSM358381', 'GSM358382': 'https://www.ncbi.nlm.nih.gov/geo/query/acc.cgi?acc=GSM358382', 'GSM358383': 'https://www.ncbi.nlm.nih.gov/geo/query/acc.cgi?acc=GSM358383', 'GSM358384': 'https://www.ncbi.nlm.nih.gov/geo/query/acc.cgi?acc=GSM358384', 'GSM358385': 'https://www.ncbi.nlm.nih.gov/geo/query/acc.cgi?acc=GSM358385', 'GSM358386': 'https://www.ncbi.nlm.nih.gov/geo/query/acc.cgi?acc=GSM358386', 'GSM358387': 'https://www.ncbi.nlm.nih.gov/geo/query/acc.cgi?acc=GSM358387', 'GSM358388': 'https://www.ncbi.nlm.nih.gov/geo/query/acc.cgi?acc=GSM358388', 'GSM358389': 'https://www.ncbi.nlm.nih.gov/geo/query/acc.cgi?acc=GSM358389', 'GSM358390': 'https://www.ncbi.nlm.nih.gov/geo/query/acc.cgi?acc=GSM358390', 'GSM358391': 'https://www.ncbi.nlm.nih.gov/geo/query/acc.cgi?acc=GSM358391', 'GSM358392': 'https://www.ncbi.nlm.nih.gov/geo/query/acc.cgi?acc=GSM358392', 'GSM358393': 'https://www.ncbi.nlm.nih.gov/geo/query/acc.cgi?acc=GSM358393', 'GSM358394': 'https://www.ncbi.nlm.nih.gov/geo/query/acc.cgi?acc=GSM358394', 'GSM358395': 'https://www.ncbi.nlm.nih.gov/geo/query/acc.cgi?acc=GSM358395', 'GSM358396': 'https://www.ncbi.nlm.nih.gov/geo/query/acc.cgi?acc=GSM358396', 'GSM358397': 'https://www.ncbi.nlm.nih.gov/geo/query/acc.cgi?acc=GSM358397', 'GSM358398': 'https://www.ncbi.nlm.nih.gov/geo/query/acc.cgi?acc=GSM358398', 'GSM358399': 'https://www.ncbi.nlm.nih.gov/geo/query/acc.cgi?acc=GSM358399', 'GSM358400': 'https://www.ncbi.nlm.nih.gov/geo/query/acc.cgi?acc=GSM358400', 'GSM358401': 'https://www.ncbi.nlm.nih.gov/geo/query/acc.cgi?acc=GSM358401', 'GSM358402': 'https://www.ncbi.nlm.nih.gov/geo/query/acc.cgi?acc=GSM358402', 'GSM358403': 'https://www.ncbi.nlm.nih.gov/geo/query/acc.cgi?acc=GSM358403', 'GSM358404': 'https://www.ncbi.nlm.nih.gov/geo/query/acc.cgi?acc=GSM358404', 'GSM358405': 'https://www.ncbi.nlm.nih.gov/geo/query/acc.cgi?acc=GSM358405', 'GSM358406': 'https://www.ncbi.nlm.nih.gov/geo/query/acc.cgi?acc=GSM358406', 'GSM358407': 'https://www.ncbi.nlm.nih.gov/geo/query/acc.cgi?acc=GSM358407', 'GSM358408': 'https://www.ncbi.nlm.nih.gov/geo/query/acc.cgi?acc=GSM358408', 'GSM358409': 'https://www.ncbi.nlm.nih.gov/geo/query/acc.cgi?acc=GSM358409', 'GSM358410': 'https://www.ncbi.nlm.nih.gov/geo/query/acc.cgi?acc=GSM358410', 'GSM358411': 'https://www.ncbi.nlm.nih.gov/geo/query/acc.cgi?acc=GSM358411', 'GSM358412': 'https://www.ncbi.nlm.nih.gov/geo/query/acc.cgi?acc=GSM358412', 'GSM358413': 'https://www.ncbi.nlm.nih.gov/geo/query/acc.cgi?acc=GSM358413', 'GSM358414': 'https://www.ncbi.nlm.nih.gov/geo/query/acc.cgi?acc=GSM358414', 'GSM358415': 'https://www.ncbi.nlm.nih.gov/geo/query/acc.cgi?acc=GSM358415', 'GSM358416': 'https://www.ncbi.nlm.nih.gov/geo/query/acc.cgi?acc=GSM358416', 'GSM358417': 'https://www.ncbi.nlm.nih.gov/geo/query/acc.cgi?acc=GSM358417', 'GSM358418': 'https://www.ncbi.nlm.nih.gov/geo/query/acc.cgi?acc=GSM358418', 'GSM358419': 'https://www.ncbi.nlm.nih.gov/geo/query/acc.cgi?acc=GSM358419', 'GSM358420': 'https://www.ncbi.nlm.nih.gov/geo/query/acc.cgi?acc=GSM358420', 'GSM358421': 'https://www.ncbi.nlm.nih.gov/geo/query/acc.cgi?acc=GSM358421', 'GSM358422': 'https://www.ncbi.nlm.nih.gov/geo/query/acc.cgi?acc=GSM358422', 'GSM358423': 'https://www.ncbi.nlm.nih.gov/geo/query/acc.cgi?acc=GSM358423', 'GSM358424': 'https://www.ncbi.nlm.nih.gov/geo/query/acc.cgi?acc=GSM358424', 'GSM358425': 'https://www.ncbi.nlm.nih.gov/geo/query/acc.cgi?acc=GSM358425', 'GSM358426': 'https://www.ncbi.nlm.nih.gov/geo/query/acc.cgi?acc=GSM358426', 'GSM358427': 'https://www.ncbi.nlm.nih.gov/geo/query/acc.cgi?acc=GSM358427', 'GSM358428': 'https://www.ncbi.nlm.nih.gov/geo/query/acc.cgi?acc=GSM358428', 'GSM358429': 'https://www.ncbi.nlm.nih.gov/geo/query/acc.cgi?acc=GSM358429', 'GSM358430': 'https://www.ncbi.nlm.nih.gov/geo/query/acc.cgi?acc=GSM358430', 'GSM358431': 'https://www.ncbi.nlm.nih.gov/geo/query/acc.cgi?acc=GSM358431', 'GSM358432': 'https://www.ncbi.nlm.nih.gov/geo/query/acc.cgi?acc=GSM358432', 'GSM358433': 'https://www.ncbi.nlm.nih.gov/geo/query/acc.cgi?acc=GSM358433', 'GSM358434': 'https://www.ncbi.nlm.nih.gov/geo/query/acc.cgi?acc=GSM358434', 'GSM358435': 'https://www.ncbi.nlm.nih.gov/geo/query/acc.cgi?acc=GSM358435', 'GSM358436': 'https://www.ncbi.nlm.nih.gov/geo/query/acc.cgi?acc=GSM358436', 'GSM358437': 'https://www.ncbi.nlm.nih.gov/geo/query/acc.cgi?acc=GSM358437', 'GSM358438': 'https://www.ncbi.nlm.nih.gov/geo/query/acc.cgi?acc=GSM358438', 'GSM358439': 'https://www.ncbi.nlm.nih.gov/geo/query/acc.cgi?acc=GSM358439', 'GSM358440': 'https://www.ncbi.nlm.nih.gov/geo/query/acc.cgi?acc=GSM358440', 'GSM358441': 'https://www.ncbi.nlm.nih.gov/geo/query/acc.cgi?acc=GSM358441', 'GSM358442': 'https://www.ncbi.nlm.nih.gov/geo/query/acc.cgi?acc=GSM358442', 'GSM358443': 'https://www.ncbi.nlm.nih.gov/geo/query/acc.cgi?acc=GSM358443', 'GSM358444': 'https://www.ncbi.nlm.nih.gov/geo/query/acc.cgi?acc=GSM358444', 'GSM358445': 'https://www.ncbi.nlm.nih.gov/geo/query/acc.cgi?acc=GSM358445', 'GSM358446': 'https://www.ncbi.nlm.nih.gov/geo/query/acc.cgi?acc=GSM358446', 'GSM358447': 'https://www.ncbi.nlm.nih.gov/geo/query/acc.cgi?acc=GSM358447', 'GSM358448': 'https://www.ncbi.nlm.nih.gov/geo/query/acc.cgi?acc=GSM358448', 'GSM358449': 'https://www.ncbi.nlm.nih.gov/geo/query/acc.cgi?acc=GSM358449', 'GSM358450': 'https://www.ncbi.nlm.nih.gov/geo/query/acc.cgi?acc=GSM358450', 'GSM358451': 'https://www.ncbi.nlm.nih.gov/geo/query/acc.cgi?acc=GSM358451', 'GSM358452': 'https://www.ncbi.nlm.nih.gov/geo/query/acc.cgi?acc=GSM358452', 'GSM358453': 'https://www.ncbi.nlm.nih.gov/geo/query/acc.cgi?acc=GSM358453', 'GSM358454': 'https://www.ncbi.nlm.nih.gov/geo/query/acc.cgi?acc=GSM358454', 'GSM358455': 'https://www.ncbi.nlm.nih.gov/geo/query/acc.cgi?acc=GSM358455', 'GSM358456': 'https://www.ncbi.nlm.nih.gov/geo/query/acc.cgi?acc=GSM358456', 'GSM358457': 'https://www.ncbi.nlm.nih.gov/geo/query/acc.cgi?acc=GSM358457', 'GSM358458': 'https://www.ncbi.nlm.nih.gov/geo/query/acc.cgi?acc=GSM358458', 'GSM358459': 'https://www.ncbi.nlm.nih.gov/geo/query/acc.cgi?acc=GSM358459', 'GSM358460': 'https://www.ncbi.nlm.nih.gov/geo/query/acc.cgi?acc=GSM358460', 'GSM358461': 'https://www.ncbi.nlm.nih.gov/geo/query/acc.cgi?acc=GSM358461', 'GSM358462': 'https://www.ncbi.nlm.nih.gov/geo/query/acc.cgi?acc=GSM358462', 'GSM358463': 'https://www.ncbi.nlm.nih.gov/geo/query/acc.cgi?acc=GSM358463', 'GSM358464': 'https://www.ncbi.nlm.nih.gov/geo/query/acc.cgi?acc=GSM358464', 'GSM358465': 'https://www.ncbi.nlm.nih.gov/geo/query/acc.cgi?acc=GSM358465', 'GSM358466': 'https://www.ncbi.nlm.nih.gov/geo/query/acc.cgi?acc=GSM358466', 'GSM358467': 'https://www.ncbi.nlm.nih.gov/geo/query/acc.cgi?acc=GSM358467', 'GSM358468': 'https://www.ncbi.nlm.nih.gov/geo/query/acc.cgi?acc=GSM358468', 'GSM358469': 'https://www.ncbi.nlm.nih.gov/geo/query/acc.cgi?acc=GSM358469', 'GSM358470': 'https://www.ncbi.nlm.nih.gov/geo/query/acc.cgi?acc=GSM358470', 'GSM358471': 'https://www.ncbi.nlm.nih.gov/geo/query/acc.cgi?acc=GSM358471', 'GSM358472': 'https://www.ncbi.nlm.nih.gov/geo/query/acc.cgi?acc=GSM358472', 'GSM358473': 'https://www.ncbi.nlm.nih.gov/geo/query/acc.cgi?acc=GSM358473', 'GSM358474': 'https://www.ncbi.nlm.nih.gov/geo/query/acc.cgi?acc=GSM358474', 'GSM358475': 'https://www.ncbi.nlm.nih.gov/geo/query/acc.cgi?acc=GSM358475', 'GSM358476': 'https://www.ncbi.nlm.nih.gov/geo/query/acc.cgi?acc=GSM358476', 'GSM358477': 'https://www.ncbi.nlm.nih.gov/geo/query/acc.cgi?acc=GSM358477', 'GSM358478': 'https://www.ncbi.nlm.nih.gov/geo/query/acc.cgi?acc=GSM358478', 'GSM358479': 'https://www.ncbi.nlm.nih.gov/geo/query/acc.cgi?acc=GSM358479', 'GSM358480': 'https://www.ncbi.nlm.nih.gov/geo/query/acc.cgi?acc=GSM358480', 'GSM358481': 'https://www.ncbi.nlm.nih.gov/geo/query/acc.cgi?acc=GSM358481', 'GSM358482': 'https://www.ncbi.nlm.nih.gov/geo/query/acc.cgi?acc=GSM358482', 'GSM358483': 'https://www.ncbi.nlm.nih.gov/geo/query/acc.cgi?acc=GSM358483', 'GSM358484': 'https://www.ncbi.nlm.nih.gov/geo/query/acc.cgi?acc=GSM358484', 'GSM358485': 'https://www.ncbi.nlm.nih.gov/geo/query/acc.cgi?acc=GSM358485', 'GSM358486': 'https://www.ncbi.nlm.nih.gov/geo/query/acc.cgi?acc=GSM358486', 'GSM358487': 'https://www.ncbi.nlm.nih.gov/geo/query/acc.cgi?acc=GSM358487', 'GSM358488': 'https://www.ncbi.nlm.nih.gov/geo/query/acc.cgi?acc=GSM358488', 'GSM358489': 'https://www.ncbi.nlm.nih.gov/geo/query/acc.cgi?acc=GSM358489', 'GSM358490': 'https://www.ncbi.nlm.nih.gov/geo/query/acc.cgi?acc=GSM358490', 'GSM358491': 'https://www.ncbi.nlm.nih.gov/geo/query/acc.cgi?acc=GSM358491', 'GSM358492': 'https://www.ncbi.nlm.nih.gov/geo/query/acc.cgi?acc=GSM358492', 'GSM358493': 'https://www.ncbi.nlm.nih.gov/geo/query/acc.cgi?acc=GSM358493', 'GSM358494': 'https://www.ncbi.nlm.nih.gov/geo/query/acc.cgi?acc=GSM358494', 'GSM358495': 'https://www.ncbi.nlm.nih.gov/geo/query/acc.cgi?acc=GSM358495', 'GSM358496': 'https://www.ncbi.nlm.nih.gov/geo/query/acc.cgi?acc=GSM358496', 'GSM358497': 'https://www.ncbi.nlm.nih.gov/geo/query/acc.cgi?acc=GSM358497', 'GSM358498': 'https://www.ncbi.nlm.nih.gov/geo/query/acc.cgi?acc=GSM358498', 'GSM358499': 'https://www.ncbi.nlm.nih.gov/geo/query/acc.cgi?acc=GSM358499', 'GSM358500': 'https://www.ncbi.nlm.nih.gov/geo/query/acc.cgi?acc=GSM358500', 'GSM358501': 'https://www.ncbi.nlm.nih.gov/geo/query/acc.cgi?acc=GSM358501', 'GSM358502': 'https://www.ncbi.nlm.nih.gov/geo/query/acc.cgi?acc=GSM358502', 'GSM358503': 'https://www.ncbi.nlm.nih.gov/geo/query/acc.cgi?acc=GSM358503', 'GSM358504': 'https://www.ncbi.nlm.nih.gov/geo/query/acc.cgi?acc=GSM358504', 'GSM358505': 'https://www.ncbi.nlm.nih.gov/geo/query/acc.cgi?acc=GSM358505', 'GSM358506': 'https://www.ncbi.nlm.nih.gov/geo/query/acc.cgi?acc=GSM358506', 'GSM358507': 'https://www.ncbi.nlm.nih.gov/geo/query/acc.cgi?acc=GSM358507', 'GSM358508': 'https://www.ncbi.nlm.nih.gov/geo/query/acc.cgi?acc=GSM358508', 'GSM358509': 'https://www.ncbi.nlm.nih.gov/geo/query/acc.cgi?acc=GSM358509', 'GSM358510': 'https://www.ncbi.nlm.nih.gov/geo/query/acc.cgi?acc=GSM358510', 'GSM358511': 'https://www.ncbi.nlm.nih.gov/geo/query/acc.cgi?acc=GSM358511', 'GSM358512': 'https://www.ncbi.nlm.nih.gov/geo/query/acc.cgi?acc=GSM358512', 'GSM358513': 'https://www.ncbi.nlm.nih.gov/geo/query/acc.cgi?acc=GSM358513', 'GSM358514': 'https://www.ncbi.nlm.nih.gov/geo/query/acc.cgi?acc=GSM358514', 'GSM358515': 'https://www.ncbi.nlm.nih.gov/geo/query/acc.cgi?acc=GSM358515', 'GSM358516': 'https://www.ncbi.nlm.nih.gov/geo/query/acc.cgi?acc=GSM358516', 'GSM358517': 'https://www.ncbi.nlm.nih.gov/geo/query/acc.cgi?acc=GSM358517', 'GSM358518': 'https://www.ncbi.nlm.nih.gov/geo/query/acc.cgi?acc=GSM358518', 'GSM358519': 'https://www.ncbi.nlm.nih.gov/geo/query/acc.cgi?acc=GSM358519', 'GSM358520': 'https://www.ncbi.nlm.nih.gov/geo/query/acc.cgi?acc=GSM358520', 'GSM358521': 'https://www.ncbi.nlm.nih.gov/geo/query/acc.cgi?acc=GSM358521', 'GSM358522': 'https://www.ncbi.nlm.nih.gov/geo/query/acc.cgi?acc=GSM358522', 'GSM358523': 'https://www.ncbi.nlm.nih.gov/geo/query/acc.cgi?acc=GSM358523', 'GSM358524': 'https://www.ncbi.nlm.nih.gov/geo/query/acc.cgi?acc=GSM358524', 'GSM358525': 'https://www.ncbi.nlm.nih.gov/geo/query/acc.cgi?acc=GSM358525', 'GSM358526': 'https://www.ncbi.nlm.nih.gov/geo/query/acc.cgi?acc=GSM358526', 'GSM358527': 'https://www.ncbi.nlm.nih.gov/geo/query/acc.cgi?acc=GSM358527', 'GSM358528': 'https://www.ncbi.nlm.nih.gov/geo/query/acc.cgi?acc=GSM358528', 'GSM358529': 'https://www.ncbi.nlm.nih.gov/geo/query/acc.cgi?acc=GSM358529', 'GSM358530': 'https://www.ncbi.nlm.nih.gov/geo/query/acc.cgi?acc=GSM358530', 'GSM358531': 'https://www.ncbi.nlm.nih.gov/geo/query/acc.cgi?acc=GSM358531', 'GSM358532': 'https://www.ncbi.nlm.nih.gov/geo/query/acc.cgi?acc=GSM358532', 'GSM358533': 'https://www.ncbi.nlm.nih.gov/geo/query/acc.cgi?acc=GSM358533', 'GSM358534': 'https://www.ncbi.nlm.nih.gov/geo/query/acc.cgi?acc=GSM358534', 'GSM358535': 'https://www.ncbi.nlm.nih.gov/geo/query/acc.cgi?acc=GSM358535', 'GSM358536': 'https://www.ncbi.nlm.nih.gov/geo/query/acc.cgi?acc=GSM358536', 'GSM358537': 'https://www.ncbi.nlm.nih.gov/geo/query/acc.cgi?acc=GSM358537', 'GSM358538': 'https://www.ncbi.nlm.nih.gov/geo/query/acc.cgi?acc=GSM358538', 'GSM358539': 'https://www.ncbi.nlm.nih.gov/geo/query/acc.cgi?acc=GSM358539', 'GSM358540': 'https://www.ncbi.nlm.nih.gov/geo/query/acc.cgi?acc=GSM358540', 'GSM358541': 'https://www.ncbi.nlm.nih.gov/geo/query/acc.cgi?acc=GSM358541', 'GSM358542': 'https://www.ncbi.nlm.nih.gov/geo/query/acc.cgi?acc=GSM358542', 'GSM358543': 'https://www.ncbi.nlm.nih.gov/geo/query/acc.cgi?acc=GSM358543', 'GSM358544': 'https://www.ncbi.nlm.nih.gov/geo/query/acc.cgi?acc=GSM358544', 'GSM358545': 'https://www.ncbi.nlm.nih.gov/geo/query/acc.cgi?acc=GSM358545', 'GSM358546': 'https://www.ncbi.nlm.nih.gov/geo/query/acc.cgi?acc=GSM358546', 'GSM358547': 'https://www.ncbi.nlm.nih.gov/geo/query/acc.cgi?acc=GSM358547', 'GSM358548': 'https://www.ncbi.nlm.nih.gov/geo/query/acc.cgi?acc=GSM358548', 'GSM358549': 'https://www.ncbi.nlm.nih.gov/geo/query/acc.cgi?acc=GSM358549', 'GSM358550': 'https://www.ncbi.nlm.nih.gov/geo/query/acc.cgi?acc=GSM358550', 'GSM358551': 'https://www.ncbi.nlm.nih.gov/geo/query/acc.cgi?acc=GSM358551', 'GSM358552': 'https://www.ncbi.nlm.nih.gov/geo/query/acc.cgi?acc=GSM358552', 'GSM358553': 'https://www.ncbi.nlm.nih.gov/geo/query/acc.cgi?acc=GSM358553', 'GSM358554': 'https://www.ncbi.nlm.nih.gov/geo/query/acc.cgi?acc=GSM358554', 'GSM358555': 'https://www.ncbi.nlm.nih.gov/geo/query/acc.cgi?acc=GSM358555', 'GSM358556': 'https://www.ncbi.nlm.nih.gov/geo/query/acc.cgi?acc=GSM358556', 'GSM358557': 'https://www.ncbi.nlm.nih.gov/geo/query/acc.cgi?acc=GSM358557', 'GSM358558': 'https://www.ncbi.nlm.nih.gov/geo/query/acc.cgi?acc=GSM358558', 'GSM358559': 'https://www.ncbi.nlm.nih.gov/geo/query/acc.cgi?acc=GSM358559', 'GSM358560': 'https://www.ncbi.nlm.nih.gov/geo/query/acc.cgi?acc=GSM358560', 'GSM358561': 'https://www.ncbi.nlm.nih.gov/geo/query/acc.cgi?acc=GSM358561', 'GSM358562': 'https://www.ncbi.nlm.nih.gov/geo/query/acc.cgi?acc=GSM358562', 'GSM358563': 'https://www.ncbi.nlm.nih.gov/geo/query/acc.cgi?acc=GSM358563', 'GSM358564': 'https://www.ncbi.nlm.nih.gov/geo/query/acc.cgi?acc=GSM358564', 'GSM358565': 'https://www.ncbi.nlm.nih.gov/geo/query/acc.cgi?acc=GSM358565', 'GSM358566': 'https://www.ncbi.nlm.nih.gov/geo/query/acc.cgi?acc=GSM358566', 'GSM358567': 'https://www.ncbi.nlm.nih.gov/geo/query/acc.cgi?acc=GSM358567', 'GSM358568': 'https://www.ncbi.nlm.nih.gov/geo/query/acc.cgi?acc=GSM358568', 'GSM358569': 'https://www.ncbi.nlm.nih.gov/geo/query/acc.cgi?acc=GSM358569', 'GSM358570': 'https://www.ncbi.nlm.nih.gov/geo/query/acc.cgi?acc=GSM358570', 'GSM358571': 'https://www.ncbi.nlm.nih.gov/geo/query/acc.cgi?acc=GSM358571', 'GSM358572': 'https://www.ncbi.nlm.nih.gov/geo/query/acc.cgi?acc=GSM358572', 'GSM358573': 'https://www.ncbi.nlm.nih.gov/geo/query/acc.cgi?acc=GSM358573', 'GSM358574': 'https://www.ncbi.nlm.nih.gov/geo/query/acc.cgi?acc=GSM358574', 'GSM358575': 'https://www.ncbi.nlm.nih.gov/geo/query/acc.cgi?acc=GSM358575', 'GSM358576': 'https://www.ncbi.nlm.nih.gov/geo/query/acc.cgi?acc=GSM358576', 'GSM358577': 'https://www.ncbi.nlm.nih.gov/geo/query/acc.cgi?acc=GSM358577', 'GSM358578': 'https://www.ncbi.nlm.nih.gov/geo/query/acc.cgi?acc=GSM358578', 'GSM358579': 'https://www.ncbi.nlm.nih.gov/geo/query/acc.cgi?acc=GSM358579', 'GSM358580': 'https://www.ncbi.nlm.nih.gov/geo/query/acc.cgi?acc=GSM358580', 'GSM358581': 'https://www.ncbi.nlm.nih.gov/geo/query/acc.cgi?acc=GSM358581', 'GSM358582': 'https://www.ncbi.nlm.nih.gov/geo/query/acc.cgi?acc=GSM358582', 'GSM358583': 'https://www.ncbi.nlm.nih.gov/geo/query/acc.cgi?acc=GSM358583', 'GSM358584': 'https://www.ncbi.nlm.nih.gov/geo/query/acc.cgi?acc=GSM358584', 'GSM358585': 'https://www.ncbi.nlm.nih.gov/geo/query/acc.cgi?acc=GSM358585', 'GSM358586': 'https://www.ncbi.nlm.nih.gov/geo/query/acc.cgi?acc=GSM358586', 'GSM358587': 'https://www.ncbi.nlm.nih.gov/geo/query/acc.cgi?acc=GSM358587', 'GSM358588': 'https://www.ncbi.nlm.nih.gov/geo/query/acc.cgi?acc=GSM358588', 'GSM358589': 'https://www.ncbi.nlm.nih.gov/geo/query/acc.cgi?acc=GSM358589', 'GSM358590': 'https://www.ncbi.nlm.nih.gov/geo/query/acc.cgi?acc=GSM358590', 'GSM358591': 'https://www.ncbi.nlm.nih.gov/geo/query/acc.cgi?acc=GSM358591', 'GSM358592': 'https://www.ncbi.nlm.nih.gov/geo/query/acc.cgi?acc=GSM358592', 'GSM358593': 'https://www.ncbi.nlm.nih.gov/geo/query/acc.cgi?acc=GSM358593', 'GSM358594': 'https://www.ncbi.nlm.nih.gov/geo/query/acc.cgi?acc=GSM358594', 'GSM358595': 'https://www.ncbi.nlm.nih.gov/geo/query/acc.cgi?acc=GSM358595', 'GSM358596': 'https://www.ncbi.nlm.nih.gov/geo/query/acc.cgi?acc=GSM358596', 'GSM358597': 'https://www.ncbi.nlm.nih.gov/geo/query/acc.cgi?acc=GSM358597', 'GSM358598': 'https://www.ncbi.nlm.nih.gov/geo/query/acc.cgi?acc=GSM358598', 'GSM358599': 'https://www.ncbi.nlm.nih.gov/geo/query/acc.cgi?acc=GSM358599', 'GSM358600': 'https://www.ncbi.nlm.nih.gov/geo/query/acc.cgi?acc=GSM358600', 'GSM358601': 'https://www.ncbi.nlm.nih.gov/geo/query/acc.cgi?acc=GSM358601', 'GSM358602': 'https://www.ncbi.nlm.nih.gov/geo/query/acc.cgi?acc=GSM358602', 'GSM358603': 'https://www.ncbi.nlm.nih.gov/geo/query/acc.cgi?acc=GSM358603', 'GSM358604': 'https://www.ncbi.nlm.nih.gov/geo/query/acc.cgi?acc=GSM358604', 'GSM358605': 'https://www.ncbi.nlm.nih.gov/geo/query/acc.cgi?acc=GSM358605', 'GSM358606': 'https://www.ncbi.nlm.nih.gov/geo/query/acc.cgi?acc=GSM358606', 'GSM358607': 'https://www.ncbi.nlm.nih.gov/geo/query/acc.cgi?acc=GSM358607', 'GSM358608': 'https://www.ncbi.nlm.nih.gov/geo/query/acc.cgi?acc=GSM358608', 'GSM358609': 'https://www.ncbi.nlm.nih.gov/geo/query/acc.cgi?acc=GSM358609', 'GSM358610': 'https://www.ncbi.nlm.nih.gov/geo/query/acc.cgi?acc=GSM358610', 'GSM358611': 'https://www.ncbi.nlm.nih.gov/geo/query/acc.cgi?acc=GSM358611', 'GSM358612': 'https://www.ncbi.nlm.nih.gov/geo/query/acc.cgi?acc=GSM358612', 'GSM358613': 'https://www.ncbi.nlm.nih.gov/geo/query/acc.cgi?acc=GSM358613', 'GSM358614': 'https://www.ncbi.nlm.nih.gov/geo/query/acc.cgi?acc=GSM358614', 'GSM358615': 'https://www.ncbi.nlm.nih.gov/geo/query/acc.cgi?acc=GSM358615', 'GSM358616': 'https://www.ncbi.nlm.nih.gov/geo/query/acc.cgi?acc=GSM358616', 'GSM358617': 'https://www.ncbi.nlm.nih.gov/geo/query/acc.cgi?acc=GSM358617', 'GSM358618': 'https://www.ncbi.nlm.nih.gov/geo/query/acc.cgi?acc=GSM358618', 'GSM358619': 'https://www.ncbi.nlm.nih.gov/geo/query/acc.cgi?acc=GSM358619', 'GSM358620': 'https://www.ncbi.nlm.nih.gov/geo/query/acc.cgi?acc=GSM358620', 'GSM358621': 'https://www.ncbi.nlm.nih.gov/geo/query/acc.cgi?acc=GSM358621', 'GSM358622': 'https://www.ncbi.nlm.nih.gov/geo/query/acc.cgi?acc=GSM358622', 'GSM358623': 'https://www.ncbi.nlm.nih.gov/geo/query/acc.cgi?acc=GSM358623', 'GSM358624': 'https://www.ncbi.nlm.nih.gov/geo/query/acc.cgi?acc=GSM358624', 'GSM358625': 'https://www.ncbi.nlm.nih.gov/geo/query/acc.cgi?acc=GSM358625', 'GSM358626': 'https://www.ncbi.nlm.nih.gov/geo/query/acc.cgi?acc=GSM358626', 'GSM358627': 'https://www.ncbi.nlm.nih.gov/geo/query/acc.cgi?acc=GSM358627', 'GSM358628': 'https://www.ncbi.nlm.nih.gov/geo/query/acc.cgi?acc=GSM358628', 'GSM358629': 'https://www.ncbi.nlm.nih.gov/geo/query/acc.cgi?acc=GSM358629', 'GSM358630': 'https://www.ncbi.nlm.nih.gov/geo/query/acc.cgi?acc=GSM358630'}\n"
     ]
    }
   ],
   "source": [
    "#create a dictionary with the id as key and the links as values; print the dictionary as txt if desire or simply print it to the console\n",
    "\n",
    "links_dict = {}\n",
    "for key in id_:\n",
    "    for value in links:\n",
    "        links_dict[key]= value\n",
    "        links.remove(value)\n",
    "        break\n",
    "        \n",
    "print(links_dict)\n",
    "\n",
    "with open('links_dict.txt', 'w') as f:\n",
    "    print(links_dict, file=f)"
   ]
  },
  {
   "cell_type": "markdown",
   "metadata": {},
   "source": [
    "## Question 2 "
   ]
  },
  {
   "cell_type": "code",
   "execution_count": 12,
   "metadata": {},
   "outputs": [],
   "source": [
    "#create an empty list to store the micro array data from each sample \n",
    "#this for loop will grab each link from the dictiorary greated before,\n",
    "#will wait for 10 sec till the full page is loaded\n",
    "#find the link text for fulltable, and clik to open a new tab, \n",
    "#wait until two tabs are open and switch the driver to the new one \n",
    "#retrieve the text within the window \n",
    "#store the text in the list \n",
    "#close the tab, go back to the original, repreat for all links in link_dict\n",
    "#/html/body/font/pre\n",
    "micro= []\n",
    "\n",
    "for link in links_dict.values():\n",
    "    # Open URL\n",
    "    driver.get(link)\n",
    "\n",
    "    # Setup wait for later\n",
    "    wait = WebDriverWait(driver, 10)\n",
    "\n",
    "    # Set handle windows\n",
    "    driver.current_window_handle\n",
    "\n",
    "    # Click the link which opens in a new window\n",
    "    driver.find_element_by_name(\"fulltable\").click()\n",
    "\n",
    "    # Wait for the new window or tab\n",
    "    wait.until(EC.number_of_windows_to_be(2))\n",
    "    \n",
    "    #switch to the new tab\n",
    "    driver.switch_to.window(driver.window_handles[1])\n",
    "    \n",
    "    #find element by xpath\n",
    "    s= driver.find_element_by_xpath(\"/html/body/font/pre\").text\n",
    "    \n",
    "    #append the data to the list \n",
    "    micro.append(s)\n",
    "    \n",
    "    #close driver in the tab \n",
    "    driver.close()\n",
    "    \n",
    "    #return the driver to the previous window \n",
    "    driver.switch_to.window(driver.window_handles[0])\n",
    "\n"
   ]
  },
  {
   "cell_type": "markdown",
   "metadata": {},
   "source": [
    "### Final output question 2"
   ]
  },
  {
   "cell_type": "code",
   "execution_count": 13,
   "metadata": {},
   "outputs": [],
   "source": [
    "#save the result as CSV\n",
    "np.savetxt(\"micro_b.csv\", \n",
    "           micro,\n",
    "           delimiter =\"_\", \n",
    "           fmt ='% s')"
   ]
  },
  {
   "cell_type": "markdown",
   "metadata": {},
   "source": [
    "## Question 3"
   ]
  },
  {
   "cell_type": "code",
   "execution_count": 14,
   "metadata": {},
   "outputs": [
    {
     "name": "stdout",
     "output_type": "stream",
     "text": [
      "(15856619, 1)\n"
     ]
    }
   ],
   "source": [
    "#open the file to clean and remove the unnecessary data \n",
    "  \n",
    "# Read the csv file\n",
    "df = pd.read_csv('micro_b.csv') \n",
    "  \n",
    "#drop null values \n",
    "df2 = df.dropna(how = 'all') \n",
    "\n",
    "#check df shape for later comparison \n",
    "print(df.shape)"
   ]
  },
  {
   "cell_type": "code",
   "execution_count": 15,
   "metadata": {},
   "outputs": [],
   "source": [
    "#drop and store as new dfs \n",
    "df3=df2.drop(df2[df2['#ID_REF = '] =='ID_REF VALUE'].index)\n",
    "df4=df3.drop(df3[df3['#ID_REF = '] =='#VALUE = log-base-2 values of quantile normalized MAS5.0 calls'].index)"
   ]
  },
  {
   "cell_type": "code",
   "execution_count": 16,
   "metadata": {},
   "outputs": [],
   "source": [
    "#df4.shape"
   ]
  },
  {
   "cell_type": "code",
   "execution_count": 17,
   "metadata": {},
   "outputs": [],
   "source": [
    "#this step was used to separate the ID_REF from the values, and to create a column as comparison to check if this was ok \n",
    "df_new = df4.rename(columns={'#ID_REF = ': 'test'})"
   ]
  },
  {
   "cell_type": "code",
   "execution_count": 18,
   "metadata": {},
   "outputs": [],
   "source": [
    "#df_new.columns"
   ]
  },
  {
   "cell_type": "code",
   "execution_count": 8,
   "metadata": {},
   "outputs": [
    {
     "data": {
      "text/html": [
       "<div>\n",
       "<style scoped>\n",
       "    .dataframe tbody tr th:only-of-type {\n",
       "        vertical-align: middle;\n",
       "    }\n",
       "\n",
       "    .dataframe tbody tr th {\n",
       "        vertical-align: top;\n",
       "    }\n",
       "\n",
       "    .dataframe thead th {\n",
       "        text-align: right;\n",
       "    }\n",
       "</style>\n",
       "<table border=\"1\" class=\"dataframe\">\n",
       "  <thead>\n",
       "    <tr style=\"text-align: right;\">\n",
       "      <th></th>\n",
       "      <th>test</th>\n",
       "      <th>ID_REF</th>\n",
       "      <th>VALUE</th>\n",
       "    </tr>\n",
       "  </thead>\n",
       "  <tbody>\n",
       "    <tr>\n",
       "      <th>2</th>\n",
       "      <td>1007_s_at 9.947789711</td>\n",
       "      <td>1007_s</td>\n",
       "      <td>9.947789711</td>\n",
       "    </tr>\n",
       "    <tr>\n",
       "      <th>3</th>\n",
       "      <td>1053_at 8.051414734</td>\n",
       "      <td>1053</td>\n",
       "      <td>8.051414734</td>\n",
       "    </tr>\n",
       "    <tr>\n",
       "      <th>4</th>\n",
       "      <td>117_at 5.754467818</td>\n",
       "      <td>117</td>\n",
       "      <td>5.754467818</td>\n",
       "    </tr>\n",
       "    <tr>\n",
       "      <th>5</th>\n",
       "      <td>121_at 8.789127147</td>\n",
       "      <td>121</td>\n",
       "      <td>8.789127147</td>\n",
       "    </tr>\n",
       "    <tr>\n",
       "      <th>6</th>\n",
       "      <td>1255_g_at 4.774139199</td>\n",
       "      <td>1255_g</td>\n",
       "      <td>4.774139199</td>\n",
       "    </tr>\n",
       "  </tbody>\n",
       "</table>\n",
       "</div>"
      ],
      "text/plain": [
       "                    test  ID_REF        VALUE\n",
       "2  1007_s_at 9.947789711  1007_s  9.947789711\n",
       "3    1053_at 8.051414734    1053  8.051414734\n",
       "4     117_at 5.754467818     117  5.754467818\n",
       "5     121_at 8.789127147     121  8.789127147\n",
       "6  1255_g_at 4.774139199  1255_g  4.774139199"
      ]
     },
     "execution_count": 8,
     "metadata": {},
     "output_type": "execute_result"
    }
   ],
   "source": [
    "#run at your own risk!!!!! it took me 3 hs to run this cell \n",
    "#this part is performing an operation over more than 15M rows it worked, but I guess it's a better and more efficient way to perform this \n",
    "\n",
    "df_new[['ID_REF','VALUE']] = df_new.test.apply(\n",
    "lambda x: pd.Series(str(x).split(\"_at \")))\n",
    "\n",
    "df_new.head()\n"
   ]
  },
  {
   "cell_type": "code",
   "execution_count": 19,
   "metadata": {},
   "outputs": [],
   "source": [
    "#save as checkpoint\n",
    "df_new.to_csv('micro_ok.csv',index=False)"
   ]
  },
  {
   "cell_type": "code",
   "execution_count": 16,
   "metadata": {},
   "outputs": [
    {
     "data": {
      "text/plain": [
       "(15855750, 3)"
      ]
     },
     "execution_count": 16,
     "metadata": {},
     "output_type": "execute_result"
    }
   ],
   "source": [
    "#this was performed because some extra cells appeared under the name \"#ID_REF\"\n",
    "df_new=df_new.drop(df_new[df_new['ID_REF'] =='#ID_REF = '].index)\n",
    "df_new.shape"
   ]
  },
  {
   "cell_type": "code",
   "execution_count": 17,
   "metadata": {},
   "outputs": [
    {
     "data": {
      "text/plain": [
       "ID_REF\n",
       "1007_s    [9.947789711, 9.951618512, 10.13171984, 10.586...\n",
       "1053      [8.051414734, 7.36085168, 8.343533699, 7.78866...\n",
       "117       [5.754467818, 7.391554385, 5.889777655, 6.4151...\n",
       "121       [8.789127147, 8.816099466, 8.827682083, 9.7391...\n",
       "1255_g    [4.774139199, 4.716702126, 4.27842389, 4.46106...\n",
       "Name: VALUE, dtype: object"
      ]
     },
     "execution_count": 17,
     "metadata": {},
     "output_type": "execute_result"
    }
   ],
   "source": [
    "#to group the values for each sample (290) according to the micro names (~54K)\n",
    "grouped_df = df_new.groupby(\"ID_REF\")\n",
    "grouped_lists = grouped_df[\"VALUE\"].apply(list)\n",
    "grouped_lists.head()"
   ]
  },
  {
   "cell_type": "code",
   "execution_count": 31,
   "metadata": {},
   "outputs": [],
   "source": [
    "#transform this into a df \n",
    "df_290= grouped_lists.apply(lambda x: pd.Series(list(x))) \\\n",
    "    .rename(columns=lambda x: 'ph{}'.format(x + 1))"
   ]
  },
  {
   "cell_type": "markdown",
   "metadata": {},
   "source": [
    "### Final output question 3"
   ]
  },
  {
   "cell_type": "code",
   "execution_count": 122,
   "metadata": {},
   "outputs": [],
   "source": [
    "#append the id names from each sample as column names for each value (290)\n",
    "#id_ = values stored as a list in question 1 \n",
    "my_columns = id_\n",
    "df_290.columns = my_columns\n",
    "df_290.to_csv('micro_array2.csv', index=True)"
   ]
  },
  {
   "cell_type": "markdown",
   "metadata": {},
   "source": [
    "## Question 5"
   ]
  },
  {
   "cell_type": "code",
   "execution_count": 20,
   "metadata": {},
   "outputs": [],
   "source": [
    "#open the previously crated df with the micro array data \n",
    "df_micro = pd.read_csv('micro_array2.csv') \n",
    "\n",
    "#calcualte the absolute value for each value in the df, without counting the first column\n",
    "df_abs = df_micro[df_micro.columns[1:291]].abs()\n"
   ]
  },
  {
   "cell_type": "code",
   "execution_count": 21,
   "metadata": {},
   "outputs": [],
   "source": [
    "#using nlargest find the highest 5 absolute value per row in the df\n",
    "#this method creates a new object where only the top 5 values are shown and the rest in presented as NaN\n",
    "t= df_abs.apply(pd.Series.nlargest, axis=1, n=5)"
   ]
  },
  {
   "cell_type": "code",
   "execution_count": 22,
   "metadata": {},
   "outputs": [
    {
     "data": {
      "text/html": [
       "<div>\n",
       "<style scoped>\n",
       "    .dataframe tbody tr th:only-of-type {\n",
       "        vertical-align: middle;\n",
       "    }\n",
       "\n",
       "    .dataframe tbody tr th {\n",
       "        vertical-align: top;\n",
       "    }\n",
       "\n",
       "    .dataframe thead th {\n",
       "        text-align: right;\n",
       "    }\n",
       "</style>\n",
       "<table border=\"1\" class=\"dataframe\">\n",
       "  <thead>\n",
       "    <tr style=\"text-align: right;\">\n",
       "      <th></th>\n",
       "      <th>GSM358341</th>\n",
       "      <th>GSM358342</th>\n",
       "      <th>GSM358343</th>\n",
       "      <th>GSM358344</th>\n",
       "      <th>GSM358345</th>\n",
       "      <th>GSM358346</th>\n",
       "      <th>GSM358347</th>\n",
       "      <th>GSM358348</th>\n",
       "      <th>GSM358349</th>\n",
       "      <th>GSM358350</th>\n",
       "      <th>...</th>\n",
       "      <th>GSM358621</th>\n",
       "      <th>GSM358622</th>\n",
       "      <th>GSM358623</th>\n",
       "      <th>GSM358624</th>\n",
       "      <th>GSM358625</th>\n",
       "      <th>GSM358626</th>\n",
       "      <th>GSM358627</th>\n",
       "      <th>GSM358628</th>\n",
       "      <th>GSM358629</th>\n",
       "      <th>GSM358630</th>\n",
       "    </tr>\n",
       "  </thead>\n",
       "  <tbody>\n",
       "    <tr>\n",
       "      <th>0</th>\n",
       "      <td>NaN</td>\n",
       "      <td>NaN</td>\n",
       "      <td>NaN</td>\n",
       "      <td>NaN</td>\n",
       "      <td>NaN</td>\n",
       "      <td>NaN</td>\n",
       "      <td>NaN</td>\n",
       "      <td>NaN</td>\n",
       "      <td>NaN</td>\n",
       "      <td>NaN</td>\n",
       "      <td>...</td>\n",
       "      <td>NaN</td>\n",
       "      <td>NaN</td>\n",
       "      <td>NaN</td>\n",
       "      <td>NaN</td>\n",
       "      <td>NaN</td>\n",
       "      <td>NaN</td>\n",
       "      <td>NaN</td>\n",
       "      <td>NaN</td>\n",
       "      <td>NaN</td>\n",
       "      <td>NaN</td>\n",
       "    </tr>\n",
       "    <tr>\n",
       "      <th>1</th>\n",
       "      <td>NaN</td>\n",
       "      <td>NaN</td>\n",
       "      <td>NaN</td>\n",
       "      <td>NaN</td>\n",
       "      <td>8.657586</td>\n",
       "      <td>NaN</td>\n",
       "      <td>NaN</td>\n",
       "      <td>NaN</td>\n",
       "      <td>NaN</td>\n",
       "      <td>NaN</td>\n",
       "      <td>...</td>\n",
       "      <td>NaN</td>\n",
       "      <td>NaN</td>\n",
       "      <td>NaN</td>\n",
       "      <td>NaN</td>\n",
       "      <td>NaN</td>\n",
       "      <td>NaN</td>\n",
       "      <td>8.949735</td>\n",
       "      <td>NaN</td>\n",
       "      <td>NaN</td>\n",
       "      <td>NaN</td>\n",
       "    </tr>\n",
       "    <tr>\n",
       "      <th>2</th>\n",
       "      <td>NaN</td>\n",
       "      <td>NaN</td>\n",
       "      <td>NaN</td>\n",
       "      <td>NaN</td>\n",
       "      <td>NaN</td>\n",
       "      <td>NaN</td>\n",
       "      <td>NaN</td>\n",
       "      <td>NaN</td>\n",
       "      <td>NaN</td>\n",
       "      <td>NaN</td>\n",
       "      <td>...</td>\n",
       "      <td>NaN</td>\n",
       "      <td>NaN</td>\n",
       "      <td>NaN</td>\n",
       "      <td>NaN</td>\n",
       "      <td>NaN</td>\n",
       "      <td>NaN</td>\n",
       "      <td>NaN</td>\n",
       "      <td>NaN</td>\n",
       "      <td>NaN</td>\n",
       "      <td>NaN</td>\n",
       "    </tr>\n",
       "    <tr>\n",
       "      <th>3</th>\n",
       "      <td>NaN</td>\n",
       "      <td>NaN</td>\n",
       "      <td>NaN</td>\n",
       "      <td>9.739125</td>\n",
       "      <td>NaN</td>\n",
       "      <td>NaN</td>\n",
       "      <td>NaN</td>\n",
       "      <td>NaN</td>\n",
       "      <td>NaN</td>\n",
       "      <td>NaN</td>\n",
       "      <td>...</td>\n",
       "      <td>NaN</td>\n",
       "      <td>NaN</td>\n",
       "      <td>NaN</td>\n",
       "      <td>NaN</td>\n",
       "      <td>NaN</td>\n",
       "      <td>NaN</td>\n",
       "      <td>NaN</td>\n",
       "      <td>NaN</td>\n",
       "      <td>NaN</td>\n",
       "      <td>NaN</td>\n",
       "    </tr>\n",
       "    <tr>\n",
       "      <th>4</th>\n",
       "      <td>NaN</td>\n",
       "      <td>NaN</td>\n",
       "      <td>NaN</td>\n",
       "      <td>NaN</td>\n",
       "      <td>NaN</td>\n",
       "      <td>NaN</td>\n",
       "      <td>NaN</td>\n",
       "      <td>NaN</td>\n",
       "      <td>NaN</td>\n",
       "      <td>NaN</td>\n",
       "      <td>...</td>\n",
       "      <td>NaN</td>\n",
       "      <td>NaN</td>\n",
       "      <td>NaN</td>\n",
       "      <td>NaN</td>\n",
       "      <td>NaN</td>\n",
       "      <td>NaN</td>\n",
       "      <td>NaN</td>\n",
       "      <td>NaN</td>\n",
       "      <td>NaN</td>\n",
       "      <td>NaN</td>\n",
       "    </tr>\n",
       "    <tr>\n",
       "      <th>5</th>\n",
       "      <td>NaN</td>\n",
       "      <td>NaN</td>\n",
       "      <td>NaN</td>\n",
       "      <td>NaN</td>\n",
       "      <td>NaN</td>\n",
       "      <td>NaN</td>\n",
       "      <td>NaN</td>\n",
       "      <td>NaN</td>\n",
       "      <td>NaN</td>\n",
       "      <td>NaN</td>\n",
       "      <td>...</td>\n",
       "      <td>NaN</td>\n",
       "      <td>NaN</td>\n",
       "      <td>NaN</td>\n",
       "      <td>NaN</td>\n",
       "      <td>NaN</td>\n",
       "      <td>NaN</td>\n",
       "      <td>NaN</td>\n",
       "      <td>NaN</td>\n",
       "      <td>NaN</td>\n",
       "      <td>NaN</td>\n",
       "    </tr>\n",
       "  </tbody>\n",
       "</table>\n",
       "<p>6 rows × 290 columns</p>\n",
       "</div>"
      ],
      "text/plain": [
       "   GSM358341  GSM358342  GSM358343  GSM358344  GSM358345  GSM358346  \\\n",
       "0        NaN        NaN        NaN        NaN        NaN        NaN   \n",
       "1        NaN        NaN        NaN        NaN   8.657586        NaN   \n",
       "2        NaN        NaN        NaN        NaN        NaN        NaN   \n",
       "3        NaN        NaN        NaN   9.739125        NaN        NaN   \n",
       "4        NaN        NaN        NaN        NaN        NaN        NaN   \n",
       "5        NaN        NaN        NaN        NaN        NaN        NaN   \n",
       "\n",
       "   GSM358347  GSM358348  GSM358349  GSM358350  ...  GSM358621  GSM358622  \\\n",
       "0        NaN        NaN        NaN        NaN  ...        NaN        NaN   \n",
       "1        NaN        NaN        NaN        NaN  ...        NaN        NaN   \n",
       "2        NaN        NaN        NaN        NaN  ...        NaN        NaN   \n",
       "3        NaN        NaN        NaN        NaN  ...        NaN        NaN   \n",
       "4        NaN        NaN        NaN        NaN  ...        NaN        NaN   \n",
       "5        NaN        NaN        NaN        NaN  ...        NaN        NaN   \n",
       "\n",
       "   GSM358623  GSM358624  GSM358625  GSM358626  GSM358627  GSM358628  \\\n",
       "0        NaN        NaN        NaN        NaN        NaN        NaN   \n",
       "1        NaN        NaN        NaN        NaN   8.949735        NaN   \n",
       "2        NaN        NaN        NaN        NaN        NaN        NaN   \n",
       "3        NaN        NaN        NaN        NaN        NaN        NaN   \n",
       "4        NaN        NaN        NaN        NaN        NaN        NaN   \n",
       "5        NaN        NaN        NaN        NaN        NaN        NaN   \n",
       "\n",
       "   GSM358629  GSM358630  \n",
       "0        NaN        NaN  \n",
       "1        NaN        NaN  \n",
       "2        NaN        NaN  \n",
       "3        NaN        NaN  \n",
       "4        NaN        NaN  \n",
       "5        NaN        NaN  \n",
       "\n",
       "[6 rows x 290 columns]"
      ]
     },
     "execution_count": 22,
     "metadata": {},
     "output_type": "execute_result"
    }
   ],
   "source": [
    "t.head(6)"
   ]
  },
  {
   "cell_type": "code",
   "execution_count": 23,
   "metadata": {},
   "outputs": [],
   "source": [
    "#since only the top 5 elements are present now in the object we can apply .mean(), per row (axis=1),\n",
    "#and store that as a new column call \"mean\"\n",
    "t['mean']=t.mean(axis=1)"
   ]
  },
  {
   "cell_type": "code",
   "execution_count": 24,
   "metadata": {},
   "outputs": [],
   "source": [
    "#we select that column and later crate a copy to concatenate it to the previous df with all the information \n",
    "selected_columns = t[[\"mean\"]]"
   ]
  },
  {
   "cell_type": "code",
   "execution_count": 25,
   "metadata": {},
   "outputs": [],
   "source": [
    "mean =selected_columns.copy()"
   ]
  },
  {
   "cell_type": "code",
   "execution_count": 26,
   "metadata": {},
   "outputs": [
    {
     "data": {
      "text/html": [
       "<div>\n",
       "<style scoped>\n",
       "    .dataframe tbody tr th:only-of-type {\n",
       "        vertical-align: middle;\n",
       "    }\n",
       "\n",
       "    .dataframe tbody tr th {\n",
       "        vertical-align: top;\n",
       "    }\n",
       "\n",
       "    .dataframe thead th {\n",
       "        text-align: right;\n",
       "    }\n",
       "</style>\n",
       "<table border=\"1\" class=\"dataframe\">\n",
       "  <thead>\n",
       "    <tr style=\"text-align: right;\">\n",
       "      <th></th>\n",
       "      <th>ID_REF</th>\n",
       "      <th>GSM358341</th>\n",
       "      <th>GSM358342</th>\n",
       "      <th>GSM358343</th>\n",
       "      <th>GSM358344</th>\n",
       "      <th>GSM358345</th>\n",
       "      <th>GSM358346</th>\n",
       "      <th>GSM358347</th>\n",
       "      <th>GSM358348</th>\n",
       "      <th>GSM358349</th>\n",
       "      <th>...</th>\n",
       "      <th>GSM358621</th>\n",
       "      <th>GSM358622</th>\n",
       "      <th>GSM358623</th>\n",
       "      <th>GSM358624</th>\n",
       "      <th>GSM358625</th>\n",
       "      <th>GSM358626</th>\n",
       "      <th>GSM358627</th>\n",
       "      <th>GSM358628</th>\n",
       "      <th>GSM358629</th>\n",
       "      <th>GSM358630</th>\n",
       "    </tr>\n",
       "  </thead>\n",
       "  <tbody>\n",
       "    <tr>\n",
       "      <th>0</th>\n",
       "      <td>1007_s</td>\n",
       "      <td>9.947790</td>\n",
       "      <td>9.951619</td>\n",
       "      <td>10.131720</td>\n",
       "      <td>10.586761</td>\n",
       "      <td>10.407607</td>\n",
       "      <td>10.149212</td>\n",
       "      <td>10.148531</td>\n",
       "      <td>10.310156</td>\n",
       "      <td>9.393782</td>\n",
       "      <td>...</td>\n",
       "      <td>8.666636</td>\n",
       "      <td>10.396283</td>\n",
       "      <td>9.958790</td>\n",
       "      <td>10.122036</td>\n",
       "      <td>9.91746</td>\n",
       "      <td>9.780188</td>\n",
       "      <td>10.495631</td>\n",
       "      <td>9.998563</td>\n",
       "      <td>10.462451</td>\n",
       "      <td>9.981964</td>\n",
       "    </tr>\n",
       "    <tr>\n",
       "      <th>1</th>\n",
       "      <td>1053</td>\n",
       "      <td>8.051415</td>\n",
       "      <td>7.360852</td>\n",
       "      <td>8.343534</td>\n",
       "      <td>7.788664</td>\n",
       "      <td>8.657586</td>\n",
       "      <td>8.040645</td>\n",
       "      <td>8.041764</td>\n",
       "      <td>7.627312</td>\n",
       "      <td>8.142250</td>\n",
       "      <td>...</td>\n",
       "      <td>6.916529</td>\n",
       "      <td>7.758786</td>\n",
       "      <td>8.148096</td>\n",
       "      <td>7.839722</td>\n",
       "      <td>7.46405</td>\n",
       "      <td>7.678973</td>\n",
       "      <td>8.949735</td>\n",
       "      <td>8.355339</td>\n",
       "      <td>8.164194</td>\n",
       "      <td>7.805399</td>\n",
       "    </tr>\n",
       "  </tbody>\n",
       "</table>\n",
       "<p>2 rows × 291 columns</p>\n",
       "</div>"
      ],
      "text/plain": [
       "   ID_REF  GSM358341  GSM358342  GSM358343  GSM358344  GSM358345  GSM358346  \\\n",
       "0  1007_s   9.947790   9.951619  10.131720  10.586761  10.407607  10.149212   \n",
       "1    1053   8.051415   7.360852   8.343534   7.788664   8.657586   8.040645   \n",
       "\n",
       "   GSM358347  GSM358348  GSM358349  ...  GSM358621  GSM358622  GSM358623  \\\n",
       "0  10.148531  10.310156   9.393782  ...   8.666636  10.396283   9.958790   \n",
       "1   8.041764   7.627312   8.142250  ...   6.916529   7.758786   8.148096   \n",
       "\n",
       "   GSM358624  GSM358625  GSM358626  GSM358627  GSM358628  GSM358629  GSM358630  \n",
       "0  10.122036    9.91746   9.780188  10.495631   9.998563  10.462451   9.981964  \n",
       "1   7.839722    7.46405   7.678973   8.949735   8.355339   8.164194   7.805399  \n",
       "\n",
       "[2 rows x 291 columns]"
      ]
     },
     "execution_count": 26,
     "metadata": {},
     "output_type": "execute_result"
    }
   ],
   "source": [
    "df_micro.head(2)"
   ]
  },
  {
   "cell_type": "code",
   "execution_count": 27,
   "metadata": {},
   "outputs": [],
   "source": [
    "#mean.head(2)"
   ]
  },
  {
   "cell_type": "code",
   "execution_count": 28,
   "metadata": {},
   "outputs": [],
   "source": [
    "#for the final df we can join both dfs the one with all the information (df_micro) and the new one with only the mean for each row \"mean\"\n",
    "final = pd.concat([df_micro, mean], axis=1, join='outer')"
   ]
  },
  {
   "cell_type": "code",
   "execution_count": 29,
   "metadata": {},
   "outputs": [
    {
     "data": {
      "text/html": [
       "<div>\n",
       "<style scoped>\n",
       "    .dataframe tbody tr th:only-of-type {\n",
       "        vertical-align: middle;\n",
       "    }\n",
       "\n",
       "    .dataframe tbody tr th {\n",
       "        vertical-align: top;\n",
       "    }\n",
       "\n",
       "    .dataframe thead th {\n",
       "        text-align: right;\n",
       "    }\n",
       "</style>\n",
       "<table border=\"1\" class=\"dataframe\">\n",
       "  <thead>\n",
       "    <tr style=\"text-align: right;\">\n",
       "      <th></th>\n",
       "      <th>ID_REF</th>\n",
       "      <th>GSM358341</th>\n",
       "      <th>GSM358342</th>\n",
       "      <th>GSM358343</th>\n",
       "      <th>GSM358344</th>\n",
       "      <th>GSM358345</th>\n",
       "      <th>GSM358346</th>\n",
       "      <th>GSM358347</th>\n",
       "      <th>GSM358348</th>\n",
       "      <th>GSM358349</th>\n",
       "      <th>...</th>\n",
       "      <th>GSM358622</th>\n",
       "      <th>GSM358623</th>\n",
       "      <th>GSM358624</th>\n",
       "      <th>GSM358625</th>\n",
       "      <th>GSM358626</th>\n",
       "      <th>GSM358627</th>\n",
       "      <th>GSM358628</th>\n",
       "      <th>GSM358629</th>\n",
       "      <th>GSM358630</th>\n",
       "      <th>mean</th>\n",
       "    </tr>\n",
       "  </thead>\n",
       "  <tbody>\n",
       "    <tr>\n",
       "      <th>0</th>\n",
       "      <td>1007_s</td>\n",
       "      <td>9.947790</td>\n",
       "      <td>9.951619</td>\n",
       "      <td>10.131720</td>\n",
       "      <td>10.586761</td>\n",
       "      <td>10.407607</td>\n",
       "      <td>10.149212</td>\n",
       "      <td>10.148531</td>\n",
       "      <td>10.310156</td>\n",
       "      <td>9.393782</td>\n",
       "      <td>...</td>\n",
       "      <td>10.396283</td>\n",
       "      <td>9.958790</td>\n",
       "      <td>10.122036</td>\n",
       "      <td>9.91746</td>\n",
       "      <td>9.780188</td>\n",
       "      <td>10.495631</td>\n",
       "      <td>9.998563</td>\n",
       "      <td>10.462451</td>\n",
       "      <td>9.981964</td>\n",
       "      <td>10.766383</td>\n",
       "    </tr>\n",
       "    <tr>\n",
       "      <th>1</th>\n",
       "      <td>1053</td>\n",
       "      <td>8.051415</td>\n",
       "      <td>7.360852</td>\n",
       "      <td>8.343534</td>\n",
       "      <td>7.788664</td>\n",
       "      <td>8.657586</td>\n",
       "      <td>8.040645</td>\n",
       "      <td>8.041764</td>\n",
       "      <td>7.627312</td>\n",
       "      <td>8.142250</td>\n",
       "      <td>...</td>\n",
       "      <td>7.758786</td>\n",
       "      <td>8.148096</td>\n",
       "      <td>7.839722</td>\n",
       "      <td>7.46405</td>\n",
       "      <td>7.678973</td>\n",
       "      <td>8.949735</td>\n",
       "      <td>8.355339</td>\n",
       "      <td>8.164194</td>\n",
       "      <td>7.805399</td>\n",
       "      <td>8.887170</td>\n",
       "    </tr>\n",
       "  </tbody>\n",
       "</table>\n",
       "<p>2 rows × 292 columns</p>\n",
       "</div>"
      ],
      "text/plain": [
       "   ID_REF  GSM358341  GSM358342  GSM358343  GSM358344  GSM358345  GSM358346  \\\n",
       "0  1007_s   9.947790   9.951619  10.131720  10.586761  10.407607  10.149212   \n",
       "1    1053   8.051415   7.360852   8.343534   7.788664   8.657586   8.040645   \n",
       "\n",
       "   GSM358347  GSM358348  GSM358349  ...  GSM358622  GSM358623  GSM358624  \\\n",
       "0  10.148531  10.310156   9.393782  ...  10.396283   9.958790  10.122036   \n",
       "1   8.041764   7.627312   8.142250  ...   7.758786   8.148096   7.839722   \n",
       "\n",
       "   GSM358625  GSM358626  GSM358627  GSM358628  GSM358629  GSM358630       mean  \n",
       "0    9.91746   9.780188  10.495631   9.998563  10.462451   9.981964  10.766383  \n",
       "1    7.46405   7.678973   8.949735   8.355339   8.164194   7.805399   8.887170  \n",
       "\n",
       "[2 rows x 292 columns]"
      ]
     },
     "execution_count": 29,
     "metadata": {},
     "output_type": "execute_result"
    }
   ],
   "source": [
    "final.head(2)"
   ]
  },
  {
   "cell_type": "code",
   "execution_count": 30,
   "metadata": {},
   "outputs": [],
   "source": [
    "#to sort the values first based on the absolute mean and then by ID without loosing the previous sort we need to perform this together in the desired order,\n",
    "#sorting in descending order\n",
    "final.sort_values(by=['mean', 'ID_REF'], ascending=False, inplace=True)\n"
   ]
  },
  {
   "cell_type": "code",
   "execution_count": 31,
   "metadata": {},
   "outputs": [
    {
     "data": {
      "text/html": [
       "<div>\n",
       "<style scoped>\n",
       "    .dataframe tbody tr th:only-of-type {\n",
       "        vertical-align: middle;\n",
       "    }\n",
       "\n",
       "    .dataframe tbody tr th {\n",
       "        vertical-align: top;\n",
       "    }\n",
       "\n",
       "    .dataframe thead th {\n",
       "        text-align: right;\n",
       "    }\n",
       "</style>\n",
       "<table border=\"1\" class=\"dataframe\">\n",
       "  <thead>\n",
       "    <tr style=\"text-align: right;\">\n",
       "      <th></th>\n",
       "      <th>ID_REF</th>\n",
       "      <th>GSM358341</th>\n",
       "      <th>GSM358342</th>\n",
       "      <th>GSM358343</th>\n",
       "      <th>GSM358344</th>\n",
       "      <th>GSM358345</th>\n",
       "      <th>GSM358346</th>\n",
       "      <th>GSM358347</th>\n",
       "      <th>GSM358348</th>\n",
       "      <th>GSM358349</th>\n",
       "      <th>...</th>\n",
       "      <th>GSM358622</th>\n",
       "      <th>GSM358623</th>\n",
       "      <th>GSM358624</th>\n",
       "      <th>GSM358625</th>\n",
       "      <th>GSM358626</th>\n",
       "      <th>GSM358627</th>\n",
       "      <th>GSM358628</th>\n",
       "      <th>GSM358629</th>\n",
       "      <th>GSM358630</th>\n",
       "      <th>mean</th>\n",
       "    </tr>\n",
       "  </thead>\n",
       "  <tbody>\n",
       "    <tr>\n",
       "      <th>54673</th>\n",
       "      <td>AFFX-r2-P1-cre-3</td>\n",
       "      <td>13.173938</td>\n",
       "      <td>12.934006</td>\n",
       "      <td>12.733876</td>\n",
       "      <td>12.780998</td>\n",
       "      <td>12.608079</td>\n",
       "      <td>12.791955</td>\n",
       "      <td>12.770589</td>\n",
       "      <td>13.005125</td>\n",
       "      <td>12.842837</td>\n",
       "      <td>...</td>\n",
       "      <td>12.795980</td>\n",
       "      <td>12.988141</td>\n",
       "      <td>12.959562</td>\n",
       "      <td>12.929165</td>\n",
       "      <td>13.091828</td>\n",
       "      <td>13.103858</td>\n",
       "      <td>12.959562</td>\n",
       "      <td>12.889895</td>\n",
       "      <td>12.918704</td>\n",
       "      <td>13.271998</td>\n",
       "    </tr>\n",
       "    <tr>\n",
       "      <th>35387</th>\n",
       "      <td>226131_s</td>\n",
       "      <td>13.205576</td>\n",
       "      <td>13.054339</td>\n",
       "      <td>13.205576</td>\n",
       "      <td>13.152005</td>\n",
       "      <td>13.173938</td>\n",
       "      <td>13.173938</td>\n",
       "      <td>13.091828</td>\n",
       "      <td>12.871847</td>\n",
       "      <td>13.271998</td>\n",
       "      <td>...</td>\n",
       "      <td>12.780998</td>\n",
       "      <td>12.663308</td>\n",
       "      <td>12.859210</td>\n",
       "      <td>12.847055</td>\n",
       "      <td>12.834713</td>\n",
       "      <td>12.704966</td>\n",
       "      <td>12.880923</td>\n",
       "      <td>12.791955</td>\n",
       "      <td>12.970338</td>\n",
       "      <td>13.271998</td>\n",
       "    </tr>\n",
       "    <tr>\n",
       "      <th>24415</th>\n",
       "      <td>215121_x</td>\n",
       "      <td>12.838890</td>\n",
       "      <td>13.152005</td>\n",
       "      <td>13.005125</td>\n",
       "      <td>10.306627</td>\n",
       "      <td>13.205576</td>\n",
       "      <td>12.516588</td>\n",
       "      <td>13.152005</td>\n",
       "      <td>12.976111</td>\n",
       "      <td>11.192040</td>\n",
       "      <td>...</td>\n",
       "      <td>12.711592</td>\n",
       "      <td>6.309420</td>\n",
       "      <td>11.707237</td>\n",
       "      <td>12.582268</td>\n",
       "      <td>11.402725</td>\n",
       "      <td>10.866322</td>\n",
       "      <td>10.215909</td>\n",
       "      <td>9.214688</td>\n",
       "      <td>12.842837</td>\n",
       "      <td>13.271998</td>\n",
       "    </tr>\n",
       "    <tr>\n",
       "      <th>20031</th>\n",
       "      <td>210646_x</td>\n",
       "      <td>13.117366</td>\n",
       "      <td>12.993441</td>\n",
       "      <td>13.080976</td>\n",
       "      <td>13.080976</td>\n",
       "      <td>13.152005</td>\n",
       "      <td>13.132073</td>\n",
       "      <td>13.038620</td>\n",
       "      <td>13.103858</td>\n",
       "      <td>12.964846</td>\n",
       "      <td>...</td>\n",
       "      <td>12.988141</td>\n",
       "      <td>12.588615</td>\n",
       "      <td>12.909510</td>\n",
       "      <td>12.923526</td>\n",
       "      <td>13.011582</td>\n",
       "      <td>12.780998</td>\n",
       "      <td>12.913893</td>\n",
       "      <td>12.954997</td>\n",
       "      <td>12.923526</td>\n",
       "      <td>13.271998</td>\n",
       "    </tr>\n",
       "    <tr>\n",
       "      <th>14339</th>\n",
       "      <td>204892_x</td>\n",
       "      <td>13.152005</td>\n",
       "      <td>13.103858</td>\n",
       "      <td>12.964846</td>\n",
       "      <td>13.062872</td>\n",
       "      <td>13.011582</td>\n",
       "      <td>13.031634</td>\n",
       "      <td>13.071947</td>\n",
       "      <td>13.011582</td>\n",
       "      <td>13.062872</td>\n",
       "      <td>...</td>\n",
       "      <td>12.885603</td>\n",
       "      <td>12.757188</td>\n",
       "      <td>12.819010</td>\n",
       "      <td>12.899878</td>\n",
       "      <td>12.909510</td>\n",
       "      <td>12.949391</td>\n",
       "      <td>12.815276</td>\n",
       "      <td>12.764179</td>\n",
       "      <td>12.774037</td>\n",
       "      <td>13.271998</td>\n",
       "    </tr>\n",
       "  </tbody>\n",
       "</table>\n",
       "<p>5 rows × 292 columns</p>\n",
       "</div>"
      ],
      "text/plain": [
       "                 ID_REF  GSM358341  GSM358342  GSM358343  GSM358344  \\\n",
       "54673  AFFX-r2-P1-cre-3  13.173938  12.934006  12.733876  12.780998   \n",
       "35387          226131_s  13.205576  13.054339  13.205576  13.152005   \n",
       "24415          215121_x  12.838890  13.152005  13.005125  10.306627   \n",
       "20031          210646_x  13.117366  12.993441  13.080976  13.080976   \n",
       "14339          204892_x  13.152005  13.103858  12.964846  13.062872   \n",
       "\n",
       "       GSM358345  GSM358346  GSM358347  GSM358348  GSM358349  ...  GSM358622  \\\n",
       "54673  12.608079  12.791955  12.770589  13.005125  12.842837  ...  12.795980   \n",
       "35387  13.173938  13.173938  13.091828  12.871847  13.271998  ...  12.780998   \n",
       "24415  13.205576  12.516588  13.152005  12.976111  11.192040  ...  12.711592   \n",
       "20031  13.152005  13.132073  13.038620  13.103858  12.964846  ...  12.988141   \n",
       "14339  13.011582  13.031634  13.071947  13.011582  13.062872  ...  12.885603   \n",
       "\n",
       "       GSM358623  GSM358624  GSM358625  GSM358626  GSM358627  GSM358628  \\\n",
       "54673  12.988141  12.959562  12.929165  13.091828  13.103858  12.959562   \n",
       "35387  12.663308  12.859210  12.847055  12.834713  12.704966  12.880923   \n",
       "24415   6.309420  11.707237  12.582268  11.402725  10.866322  10.215909   \n",
       "20031  12.588615  12.909510  12.923526  13.011582  12.780998  12.913893   \n",
       "14339  12.757188  12.819010  12.899878  12.909510  12.949391  12.815276   \n",
       "\n",
       "       GSM358629  GSM358630       mean  \n",
       "54673  12.889895  12.918704  13.271998  \n",
       "35387  12.791955  12.970338  13.271998  \n",
       "24415   9.214688  12.842837  13.271998  \n",
       "20031  12.954997  12.923526  13.271998  \n",
       "14339  12.764179  12.774037  13.271998  \n",
       "\n",
       "[5 rows x 292 columns]"
      ]
     },
     "execution_count": 31,
     "metadata": {},
     "output_type": "execute_result"
    }
   ],
   "source": [
    "final.head()"
   ]
  },
  {
   "cell_type": "markdown",
   "metadata": {},
   "source": [
    "### Final output question 5"
   ]
  },
  {
   "cell_type": "code",
   "execution_count": 32,
   "metadata": {},
   "outputs": [],
   "source": [
    "#create a new df with only the columns of interest \n",
    "id_mean = final[[\"ID_REF\", \"mean\"]]\n",
    "id_mean2 =id_mean.copy()"
   ]
  },
  {
   "cell_type": "code",
   "execution_count": 33,
   "metadata": {},
   "outputs": [],
   "source": [
    "#create a df with only the first 3 rows \n",
    "id_mean3= id_mean2.iloc[[0,1,2]]"
   ]
  },
  {
   "cell_type": "code",
   "execution_count": 34,
   "metadata": {},
   "outputs": [
    {
     "data": {
      "text/html": [
       "<div>\n",
       "<style scoped>\n",
       "    .dataframe tbody tr th:only-of-type {\n",
       "        vertical-align: middle;\n",
       "    }\n",
       "\n",
       "    .dataframe tbody tr th {\n",
       "        vertical-align: top;\n",
       "    }\n",
       "\n",
       "    .dataframe thead th {\n",
       "        text-align: right;\n",
       "    }\n",
       "</style>\n",
       "<table border=\"1\" class=\"dataframe\">\n",
       "  <thead>\n",
       "    <tr style=\"text-align: right;\">\n",
       "      <th></th>\n",
       "      <th>ID_REF</th>\n",
       "      <th>mean</th>\n",
       "    </tr>\n",
       "  </thead>\n",
       "  <tbody>\n",
       "    <tr>\n",
       "      <th>54673</th>\n",
       "      <td>AFFX-r2-P1-cre-3</td>\n",
       "      <td>13.271998</td>\n",
       "    </tr>\n",
       "    <tr>\n",
       "      <th>35387</th>\n",
       "      <td>226131_s</td>\n",
       "      <td>13.271998</td>\n",
       "    </tr>\n",
       "    <tr>\n",
       "      <th>24415</th>\n",
       "      <td>215121_x</td>\n",
       "      <td>13.271998</td>\n",
       "    </tr>\n",
       "  </tbody>\n",
       "</table>\n",
       "</div>"
      ],
      "text/plain": [
       "                 ID_REF       mean\n",
       "54673  AFFX-r2-P1-cre-3  13.271998\n",
       "35387          226131_s  13.271998\n",
       "24415          215121_x  13.271998"
      ]
     },
     "execution_count": 34,
     "metadata": {},
     "output_type": "execute_result"
    }
   ],
   "source": [
    "#check if it is correct \n",
    "id_mean3"
   ]
  },
  {
   "cell_type": "code",
   "execution_count": 35,
   "metadata": {},
   "outputs": [],
   "source": [
    "#store the result as a dict \n",
    "highest_three = id_mean3.set_index('ID_REF').T.to_dict('list')"
   ]
  },
  {
   "cell_type": "code",
   "execution_count": 36,
   "metadata": {},
   "outputs": [
    {
     "data": {
      "text/plain": [
       "{'AFFX-r2-P1-cre-3': [13.27199773],\n",
       " '226131_s': [13.27199773],\n",
       " '215121_x': [13.27199773]}"
      ]
     },
     "execution_count": 36,
     "metadata": {},
     "output_type": "execute_result"
    }
   ],
   "source": [
    "highest_three"
   ]
  },
  {
   "cell_type": "code",
   "execution_count": 37,
   "metadata": {},
   "outputs": [
    {
     "data": {
      "text/plain": [
       "dict"
      ]
     },
     "execution_count": 37,
     "metadata": {},
     "output_type": "execute_result"
    }
   ],
   "source": [
    "#check data type\n",
    "type(highest_three)"
   ]
  },
  {
   "cell_type": "code",
   "execution_count": 38,
   "metadata": {},
   "outputs": [],
   "source": [
    "#I added this part to add the \"_at\" removed in the process of separating the ids from the values \n",
    "#I'm sure there is a better way to do it \n",
    "\n",
    "def Convert(lst2):\n",
    "    res_dct2 = {lst2[i]: lst2[i + 1] for i in range(0, len(lst2), 2)}\n",
    "    return res_dct2\n",
    "         \n",
    "# Driver code\n",
    "lst2 = ['AFFX-r2-P1-cre-3_at' , 13.27199773,\n",
    "  '226131_s_at', 13.27199773,\n",
    "  '215121_x_at', 13.27199773]\n",
    "highest_three=Convert(lst2)"
   ]
  },
  {
   "cell_type": "code",
   "execution_count": 39,
   "metadata": {},
   "outputs": [
    {
     "data": {
      "text/plain": [
       "dict"
      ]
     },
     "execution_count": 39,
     "metadata": {},
     "output_type": "execute_result"
    }
   ],
   "source": [
    "type(highest_three)"
   ]
  },
  {
   "cell_type": "markdown",
   "metadata": {},
   "source": [
    "## Question 6"
   ]
  },
  {
   "cell_type": "code",
   "execution_count": 40,
   "metadata": {},
   "outputs": [
    {
     "name": "stderr",
     "output_type": "stream",
     "text": [
      "\n",
      "\n",
      "====== WebDriver manager ======\n",
      "Current google-chrome version is 94.0.4606\n",
      "Get LATEST driver version for 94.0.4606\n",
      "Driver [/Users/luciananieto/.wdm/drivers/chromedriver/mac64/94.0.4606.41/chromedriver] found in cache\n"
     ]
    }
   ],
   "source": [
    "#we need to call again the driver and open the URL \n",
    "\n",
    "driver = webdriver.Chrome(ChromeDriverManager().install())\n",
    "driver.get('https://www.ncbi.nlm.nih.gov/geo/query/acc.cgi?acc=GSE14333')"
   ]
  },
  {
   "cell_type": "code",
   "execution_count": 41,
   "metadata": {},
   "outputs": [],
   "source": [
    "#once we found the specidfied component in the webpage and after inspecting it we copy the xpath\n",
    "#once again stored as a two separeted strings only for the purpouses of aesthetics \n",
    "#merged under the name \"long_path\"\n",
    "\n",
    "a1 = '//*[@id=\"ui-ncbiexternallink-1\"]/table/tbody/tr/td/table[6]/tbody/tr[3]/td[2]/table/tbody/tr/td/'\n",
    "a2 ='table/tbody/tr/td/table[2]/tbody/tr/td/table[1]/tbody/tr[17]/td[2]'\n",
    "long_path = (a1+a2)"
   ]
  },
  {
   "cell_type": "code",
   "execution_count": 42,
   "metadata": {},
   "outputs": [
    {
     "data": {
      "text/plain": [
       "<bound method WebDriver.quit of <selenium.webdriver.chrome.webdriver.WebDriver (session=\"fa54ef53adef32355a05dbd99f228dbb\")>>"
      ]
     },
     "execution_count": 42,
     "metadata": {},
     "output_type": "execute_result"
    }
   ],
   "source": [
    "#create an empty list to store the values from each sample \n",
    "#this for loop will grab each link from the dictiorary greated before,\n",
    "#will wait for 10 sec till the full page is loaded\n",
    "#find the element in the xpath definded by long_path,\n",
    "#retrieve the text within the window \n",
    "#store the text in the list \n",
    "#close the tab, go back to the original, repreat for all links in link_dict\n",
    "#then the driver will close the window and quit \n",
    "\n",
    "char= []\n",
    "\n",
    "for link in links_dict.values():\n",
    "\n",
    "    driver.get(link)\n",
    "\n",
    "    wait = WebDriverWait(driver, 10)\n",
    "\n",
    "    driver.current_window_handle\n",
    "    c= driver.find_element_by_xpath(long_path).text\n",
    "    char.append(c)\n",
    "    \n",
    "driver.close()\n",
    "driver.quit\n"
   ]
  },
  {
   "cell_type": "code",
   "execution_count": 43,
   "metadata": {},
   "outputs": [],
   "source": [
    "#we save the information as a csv\n",
    "np.savetxt(\"charact.csv\", \n",
    "           char,\n",
    "           delimiter =\"_\", \n",
    "           fmt ='% s')"
   ]
  },
  {
   "cell_type": "code",
   "execution_count": 44,
   "metadata": {},
   "outputs": [],
   "source": [
    "#open the new file and add a name for the header \n",
    "charact = pd.read_csv('charact.csv',names=[\"id\"]) "
   ]
  },
  {
   "cell_type": "code",
   "execution_count": 45,
   "metadata": {},
   "outputs": [
    {
     "data": {
      "text/html": [
       "<div>\n",
       "<style scoped>\n",
       "    .dataframe tbody tr th:only-of-type {\n",
       "        vertical-align: middle;\n",
       "    }\n",
       "\n",
       "    .dataframe tbody tr th {\n",
       "        vertical-align: top;\n",
       "    }\n",
       "\n",
       "    .dataframe thead th {\n",
       "        text-align: right;\n",
       "    }\n",
       "</style>\n",
       "<table border=\"1\" class=\"dataframe\">\n",
       "  <thead>\n",
       "    <tr style=\"text-align: right;\">\n",
       "      <th></th>\n",
       "      <th>id</th>\n",
       "    </tr>\n",
       "  </thead>\n",
       "  <tbody>\n",
       "    <tr>\n",
       "      <th>0</th>\n",
       "      <td>Location: Right; DukesStage: A; Age_Diag: 78; ...</td>\n",
       "    </tr>\n",
       "    <tr>\n",
       "      <th>1</th>\n",
       "      <td>Location: Rectum; DukesStage: A; Age_Diag: 53;...</td>\n",
       "    </tr>\n",
       "    <tr>\n",
       "      <th>2</th>\n",
       "      <td>Location: Left; DukesStage: A; Age_Diag: 80; G...</td>\n",
       "    </tr>\n",
       "    <tr>\n",
       "      <th>3</th>\n",
       "      <td>Location: Left; DukesStage: A; Age_Diag: 58; G...</td>\n",
       "    </tr>\n",
       "    <tr>\n",
       "      <th>4</th>\n",
       "      <td>Location: Left; DukesStage: A; Age_Diag: 81; G...</td>\n",
       "    </tr>\n",
       "  </tbody>\n",
       "</table>\n",
       "</div>"
      ],
      "text/plain": [
       "                                                  id\n",
       "0  Location: Right; DukesStage: A; Age_Diag: 78; ...\n",
       "1  Location: Rectum; DukesStage: A; Age_Diag: 53;...\n",
       "2  Location: Left; DukesStage: A; Age_Diag: 80; G...\n",
       "3  Location: Left; DukesStage: A; Age_Diag: 58; G...\n",
       "4  Location: Left; DukesStage: A; Age_Diag: 81; G..."
      ]
     },
     "execution_count": 45,
     "metadata": {},
     "output_type": "execute_result"
    }
   ],
   "source": [
    "charact.head()"
   ]
  },
  {
   "cell_type": "code",
   "execution_count": 46,
   "metadata": {},
   "outputs": [],
   "source": [
    "#create new columns based on the names of each characterist and 4 more for the rest of the data (later we will drop these)\n",
    "#we will split the column in more columns based on \"; \" (notice the space after the ; )\n",
    "charact[[\"Location\", \"DukesStage\",\"Age_Diag\",\"Gender\", \"other1\",'other2','other3','other4']] = charact.id.str.split(\"; \",expand=True,)\n",
    "#charact"
   ]
  },
  {
   "cell_type": "code",
   "execution_count": 47,
   "metadata": {},
   "outputs": [],
   "source": [
    "#now we are dropping the columns not used in this study  \n",
    "charact.drop(['id',\"other1\",'other2','other3','other4'], axis=1, inplace=True)"
   ]
  },
  {
   "cell_type": "code",
   "execution_count": 48,
   "metadata": {},
   "outputs": [
    {
     "data": {
      "text/html": [
       "<div>\n",
       "<style scoped>\n",
       "    .dataframe tbody tr th:only-of-type {\n",
       "        vertical-align: middle;\n",
       "    }\n",
       "\n",
       "    .dataframe tbody tr th {\n",
       "        vertical-align: top;\n",
       "    }\n",
       "\n",
       "    .dataframe thead th {\n",
       "        text-align: right;\n",
       "    }\n",
       "</style>\n",
       "<table border=\"1\" class=\"dataframe\">\n",
       "  <thead>\n",
       "    <tr style=\"text-align: right;\">\n",
       "      <th></th>\n",
       "      <th>Location</th>\n",
       "      <th>DukesStage</th>\n",
       "      <th>Age_Diag</th>\n",
       "      <th>Gender</th>\n",
       "    </tr>\n",
       "  </thead>\n",
       "  <tbody>\n",
       "    <tr>\n",
       "      <th>0</th>\n",
       "      <td>Location: Right</td>\n",
       "      <td>DukesStage: A</td>\n",
       "      <td>Age_Diag: 78</td>\n",
       "      <td>Gender: M</td>\n",
       "    </tr>\n",
       "    <tr>\n",
       "      <th>1</th>\n",
       "      <td>Location: Rectum</td>\n",
       "      <td>DukesStage: A</td>\n",
       "      <td>Age_Diag: 53</td>\n",
       "      <td>Gender: F</td>\n",
       "    </tr>\n",
       "    <tr>\n",
       "      <th>2</th>\n",
       "      <td>Location: Left</td>\n",
       "      <td>DukesStage: A</td>\n",
       "      <td>Age_Diag: 80</td>\n",
       "      <td>Gender: F</td>\n",
       "    </tr>\n",
       "    <tr>\n",
       "      <th>3</th>\n",
       "      <td>Location: Left</td>\n",
       "      <td>DukesStage: A</td>\n",
       "      <td>Age_Diag: 58</td>\n",
       "      <td>Gender: M</td>\n",
       "    </tr>\n",
       "    <tr>\n",
       "      <th>4</th>\n",
       "      <td>Location: Left</td>\n",
       "      <td>DukesStage: A</td>\n",
       "      <td>Age_Diag: 81</td>\n",
       "      <td>Gender: M</td>\n",
       "    </tr>\n",
       "  </tbody>\n",
       "</table>\n",
       "</div>"
      ],
      "text/plain": [
       "           Location     DukesStage      Age_Diag     Gender\n",
       "0   Location: Right  DukesStage: A  Age_Diag: 78  Gender: M\n",
       "1  Location: Rectum  DukesStage: A  Age_Diag: 53  Gender: F\n",
       "2    Location: Left  DukesStage: A  Age_Diag: 80  Gender: F\n",
       "3    Location: Left  DukesStage: A  Age_Diag: 58  Gender: M\n",
       "4    Location: Left  DukesStage: A  Age_Diag: 81  Gender: M"
      ]
     },
     "execution_count": 48,
     "metadata": {},
     "output_type": "execute_result"
    }
   ],
   "source": [
    "charact.head()"
   ]
  },
  {
   "cell_type": "code",
   "execution_count": 49,
   "metadata": {},
   "outputs": [],
   "source": [
    "#althoug the df contains all the information still each cell contaings the name of the characterist, to remove this:\n",
    "#for each column we are searching for the string to remove (text after lstrip), \n",
    "#NOTE: be sure to add the space after the name: , otherwise the space will be part of the value remaining in the cell  \n",
    "\n",
    "charact['Location'] = charact['Location'].map(lambda x: x.lstrip('Location: '))\n",
    "charact['DukesStage'] = charact['DukesStage'].map(lambda x: x.lstrip('DukesStage: '))\n",
    "charact['Age_Diag'] = charact['Age_Diag'].map(lambda x: x.lstrip('Age_Diag: '))\n",
    "charact['Gender'] = charact['Gender'].map(lambda x: x.lstrip('Gender: '))"
   ]
  },
  {
   "cell_type": "markdown",
   "metadata": {},
   "source": [
    "### Final output question 6 "
   ]
  },
  {
   "cell_type": "code",
   "execution_count": 50,
   "metadata": {},
   "outputs": [],
   "source": [
    "#save this as a CSV\n",
    "charact.to_csv('characteristics.csv', index=True)"
   ]
  },
  {
   "cell_type": "markdown",
   "metadata": {},
   "source": [
    "## Question 7"
   ]
  },
  {
   "cell_type": "code",
   "execution_count": 51,
   "metadata": {},
   "outputs": [
    {
     "data": {
      "text/plain": [
       "(290, 4)"
      ]
     },
     "execution_count": 51,
     "metadata": {},
     "output_type": "execute_result"
    }
   ],
   "source": [
    "charact.shape"
   ]
  },
  {
   "cell_type": "code",
   "execution_count": 52,
   "metadata": {},
   "outputs": [],
   "source": [
    "#to calcualte the mode of the df per column simply .mode()\n",
    "variables_mode = charact.mode()"
   ]
  },
  {
   "cell_type": "code",
   "execution_count": 53,
   "metadata": {},
   "outputs": [
    {
     "data": {
      "text/html": [
       "<div>\n",
       "<style scoped>\n",
       "    .dataframe tbody tr th:only-of-type {\n",
       "        vertical-align: middle;\n",
       "    }\n",
       "\n",
       "    .dataframe tbody tr th {\n",
       "        vertical-align: top;\n",
       "    }\n",
       "\n",
       "    .dataframe thead th {\n",
       "        text-align: right;\n",
       "    }\n",
       "</style>\n",
       "<table border=\"1\" class=\"dataframe\">\n",
       "  <thead>\n",
       "    <tr style=\"text-align: right;\">\n",
       "      <th></th>\n",
       "      <th>Location</th>\n",
       "      <th>DukesStage</th>\n",
       "      <th>Age_Diag</th>\n",
       "      <th>Gender</th>\n",
       "    </tr>\n",
       "  </thead>\n",
       "  <tbody>\n",
       "    <tr>\n",
       "      <th>0</th>\n",
       "      <td>Right</td>\n",
       "      <td>B</td>\n",
       "      <td>63</td>\n",
       "      <td>M</td>\n",
       "    </tr>\n",
       "  </tbody>\n",
       "</table>\n",
       "</div>"
      ],
      "text/plain": [
       "  Location DukesStage Age_Diag Gender\n",
       "0    Right          B       63      M"
      ]
     },
     "execution_count": 53,
     "metadata": {},
     "output_type": "execute_result"
    }
   ],
   "source": [
    "#check if it was ok \n",
    "variables_mode"
   ]
  },
  {
   "cell_type": "markdown",
   "metadata": {},
   "source": [
    "### Final output question 7"
   ]
  },
  {
   "cell_type": "code",
   "execution_count": 54,
   "metadata": {},
   "outputs": [],
   "source": [
    "#crate a dictionary with the data \n",
    "\n",
    "def Convert(lst):\n",
    "    res_dct = {lst[i]: lst[i + 1] for i in range(0, len(lst), 2)}\n",
    "    return res_dct\n",
    "         \n",
    "# Driver code\n",
    "lst = ['Location', 'Right',\n",
    "  'DukesStage', 'B',\n",
    "  'Age_Diag', 63.0,\n",
    "  'Gender', 'M']\n",
    "variables_mode=Convert(lst)"
   ]
  },
  {
   "cell_type": "code",
   "execution_count": 55,
   "metadata": {},
   "outputs": [
    {
     "data": {
      "text/plain": [
       "{'Location': 'Right', 'DukesStage': 'B', 'Age_Diag': 63.0, 'Gender': 'M'}"
      ]
     },
     "execution_count": 55,
     "metadata": {},
     "output_type": "execute_result"
    }
   ],
   "source": [
    "variables_mode"
   ]
  },
  {
   "cell_type": "markdown",
   "metadata": {},
   "source": [
    "    "
   ]
  },
  {
   "cell_type": "markdown",
   "metadata": {},
   "source": [
    "    "
   ]
  },
  {
   "cell_type": "markdown",
   "metadata": {},
   "source": [
    "# for gradescope "
   ]
  },
  {
   "cell_type": "code",
   "execution_count": 56,
   "metadata": {},
   "outputs": [],
   "source": [
    "result = {'links': links_dict,\n",
    "          'highest_three':highest_three,\n",
    "          'mode': variables_mode\n",
    "         }\n",
    "import json\n",
    "result_str= json.dumps(result)\n",
    "textfile = open('result.txt', 'w')\n",
    "textfile.write(result_str)\n",
    "textfile.close()"
   ]
  },
  {
   "cell_type": "code",
   "execution_count": null,
   "metadata": {},
   "outputs": [],
   "source": []
  }
 ],
 "metadata": {
  "kernelspec": {
   "display_name": "Python 3 (ipykernel)",
   "language": "python",
   "name": "python3"
  },
  "language_info": {
   "codemirror_mode": {
    "name": "ipython",
    "version": 3
   },
   "file_extension": ".py",
   "mimetype": "text/x-python",
   "name": "python",
   "nbconvert_exporter": "python",
   "pygments_lexer": "ipython3",
   "version": "3.9.7"
  }
 },
 "nbformat": 4,
 "nbformat_minor": 4
}
